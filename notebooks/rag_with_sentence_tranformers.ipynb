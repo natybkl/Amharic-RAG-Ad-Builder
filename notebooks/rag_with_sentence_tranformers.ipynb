{
 "cells": [
  {
   "cell_type": "markdown",
   "metadata": {},
   "source": [
    "# Build a RAG pipeline to generate Telegram Amharic Ad Posts\n",
    "\n",
    "build RAG pipeline for amharic language. \n",
    "- Retrive the relevant information from english and amharic texts about \n",
    "    - Advertiser information\n",
    "    - Product being advertised\n",
    "    - Campaign inputs i.e. briefs\n",
    "\n",
    "- Craft a good prompt \n",
    "- Generate Candidate Ads\n",
    "- Evaluate Pipeline"
   ]
  },
  {
   "cell_type": "markdown",
   "metadata": {},
   "source": [
    "## Import Packages"
   ]
  },
  {
   "cell_type": "code",
   "execution_count": 4,
   "metadata": {},
   "outputs": [],
   "source": [
    "from langchain_community.embeddings import HuggingFaceEmbeddings\n",
    "from langchain.document_loaders import TextLoader\n",
    "from langchain.text_splitter import CharacterTextSplitter  \n",
    "from langchain.vectorstores import Weaviate\n",
    "\n",
    "from typing import List, Optional, Union\n",
    "\n",
    "import weaviate\n",
    "from weaviate.embedded import EmbeddedOptions"
   ]
  },
  {
   "cell_type": "markdown",
   "metadata": {},
   "source": [
    "### Add the embedding"
   ]
  },
  {
   "cell_type": "code",
   "execution_count": 5,
   "metadata": {},
   "outputs": [
    {
     "name": "stderr",
     "output_type": "stream",
     "text": [
      "/home/babi/miniconda3/envs/tenx_week7/lib/python3.11/site-packages/tqdm/auto.py:21: TqdmWarning: IProgress not found. Please update jupyter and ipywidgets. See https://ipywidgets.readthedocs.io/en/stable/user_install.html\n",
      "  from .autonotebook import tqdm as notebook_tqdm\n",
      "No sentence-transformers model found with name /home/babi/.cache/torch/sentence_transformers/iocuydi_llama-2-amharic-3784m. Creating a new one with MEAN pooling.\n",
      "/home/babi/miniconda3/envs/tenx_week7/lib/python3.11/site-packages/torch/cuda/__init__.py:611: UserWarning: Can't initialize NVML\n",
      "  warnings.warn(\"Can't initialize NVML\")\n",
      "/home/babi/miniconda3/envs/tenx_week7/lib/python3.11/site-packages/torch/cuda/__init__.py:740: UserWarning: CUDA initialization: The NVIDIA driver on your system is too old (found version 11040). Please update your GPU driver by downloading and installing a new version from the URL: http://www.nvidia.com/Download/index.aspx Alternatively, go to: https://pytorch.org to install a PyTorch version that has been compiled with your version of the CUDA driver. (Triggered internally at ../c10/cuda/CUDAFunctions.cpp:108.)\n",
      "  return torch._C._cuda_getDeviceCount() if nvml_count < 0 else nvml_count\n"
     ]
    },
    {
     "ename": "OSError",
     "evalue": "Error no file named pytorch_model.bin, tf_model.h5, model.ckpt.index or flax_model.msgpack found in directory /home/babi/.cache/torch/sentence_transformers/iocuydi_llama-2-amharic-3784m.",
     "output_type": "error",
     "traceback": [
      "\u001b[0;31m---------------------------------------------------------------------------\u001b[0m",
      "\u001b[0;31mOSError\u001b[0m                                   Traceback (most recent call last)",
      "Cell \u001b[0;32mIn[5], line 6\u001b[0m\n\u001b[1;32m      3\u001b[0m \u001b[38;5;66;03m# embedding_model_name = \"sentence-transformers/paraphrase-multilingual-mpnet-base-v2\"\u001b[39;00m\n\u001b[1;32m      5\u001b[0m model_kwargs \u001b[38;5;241m=\u001b[39m {}\n\u001b[0;32m----> 6\u001b[0m embeddings \u001b[38;5;241m=\u001b[39m \u001b[43mHuggingFaceEmbeddings\u001b[49m\u001b[43m(\u001b[49m\n\u001b[1;32m      7\u001b[0m \u001b[43m  \u001b[49m\u001b[43mmodel_name\u001b[49m\u001b[38;5;241;43m=\u001b[39;49m\u001b[43membedding_model_name\u001b[49m\u001b[43m,\u001b[49m\u001b[43m \u001b[49m\n\u001b[1;32m      8\u001b[0m \u001b[43m  \u001b[49m\u001b[43mmodel_kwargs\u001b[49m\u001b[38;5;241;43m=\u001b[39;49m\u001b[43mmodel_kwargs\u001b[49m\n\u001b[1;32m      9\u001b[0m \u001b[43m)\u001b[49m\n",
      "File \u001b[0;32m~/miniconda3/envs/tenx_week7/lib/python3.11/site-packages/langchain_community/embeddings/huggingface.py:65\u001b[0m, in \u001b[0;36mHuggingFaceEmbeddings.__init__\u001b[0;34m(self, **kwargs)\u001b[0m\n\u001b[1;32m     59\u001b[0m \u001b[38;5;28;01mexcept\u001b[39;00m \u001b[38;5;167;01mImportError\u001b[39;00m \u001b[38;5;28;01mas\u001b[39;00m exc:\n\u001b[1;32m     60\u001b[0m     \u001b[38;5;28;01mraise\u001b[39;00m \u001b[38;5;167;01mImportError\u001b[39;00m(\n\u001b[1;32m     61\u001b[0m         \u001b[38;5;124m\"\u001b[39m\u001b[38;5;124mCould not import sentence_transformers python package. \u001b[39m\u001b[38;5;124m\"\u001b[39m\n\u001b[1;32m     62\u001b[0m         \u001b[38;5;124m\"\u001b[39m\u001b[38;5;124mPlease install it with `pip install sentence-transformers`.\u001b[39m\u001b[38;5;124m\"\u001b[39m\n\u001b[1;32m     63\u001b[0m     ) \u001b[38;5;28;01mfrom\u001b[39;00m \u001b[38;5;21;01mexc\u001b[39;00m\n\u001b[0;32m---> 65\u001b[0m \u001b[38;5;28mself\u001b[39m\u001b[38;5;241m.\u001b[39mclient \u001b[38;5;241m=\u001b[39m \u001b[43msentence_transformers\u001b[49m\u001b[38;5;241;43m.\u001b[39;49m\u001b[43mSentenceTransformer\u001b[49m\u001b[43m(\u001b[49m\n\u001b[1;32m     66\u001b[0m \u001b[43m    \u001b[49m\u001b[38;5;28;43mself\u001b[39;49m\u001b[38;5;241;43m.\u001b[39;49m\u001b[43mmodel_name\u001b[49m\u001b[43m,\u001b[49m\u001b[43m \u001b[49m\u001b[43mcache_folder\u001b[49m\u001b[38;5;241;43m=\u001b[39;49m\u001b[38;5;28;43mself\u001b[39;49m\u001b[38;5;241;43m.\u001b[39;49m\u001b[43mcache_folder\u001b[49m\u001b[43m,\u001b[49m\u001b[43m \u001b[49m\u001b[38;5;241;43m*\u001b[39;49m\u001b[38;5;241;43m*\u001b[39;49m\u001b[38;5;28;43mself\u001b[39;49m\u001b[38;5;241;43m.\u001b[39;49m\u001b[43mmodel_kwargs\u001b[49m\n\u001b[1;32m     67\u001b[0m \u001b[43m\u001b[49m\u001b[43m)\u001b[49m\n",
      "File \u001b[0;32m~/miniconda3/envs/tenx_week7/lib/python3.11/site-packages/sentence_transformers/SentenceTransformer.py:97\u001b[0m, in \u001b[0;36mSentenceTransformer.__init__\u001b[0;34m(self, model_name_or_path, modules, device, cache_folder, use_auth_token)\u001b[0m\n\u001b[1;32m     95\u001b[0m         modules \u001b[38;5;241m=\u001b[39m \u001b[38;5;28mself\u001b[39m\u001b[38;5;241m.\u001b[39m_load_sbert_model(model_path)\n\u001b[1;32m     96\u001b[0m     \u001b[38;5;28;01melse\u001b[39;00m:   \u001b[38;5;66;03m#Load with AutoModel\u001b[39;00m\n\u001b[0;32m---> 97\u001b[0m         modules \u001b[38;5;241m=\u001b[39m \u001b[38;5;28;43mself\u001b[39;49m\u001b[38;5;241;43m.\u001b[39;49m\u001b[43m_load_auto_model\u001b[49m\u001b[43m(\u001b[49m\u001b[43mmodel_path\u001b[49m\u001b[43m)\u001b[49m\n\u001b[1;32m     99\u001b[0m \u001b[38;5;28;01mif\u001b[39;00m modules \u001b[38;5;129;01mis\u001b[39;00m \u001b[38;5;129;01mnot\u001b[39;00m \u001b[38;5;28;01mNone\u001b[39;00m \u001b[38;5;129;01mand\u001b[39;00m \u001b[38;5;129;01mnot\u001b[39;00m \u001b[38;5;28misinstance\u001b[39m(modules, OrderedDict):\n\u001b[1;32m    100\u001b[0m     modules \u001b[38;5;241m=\u001b[39m OrderedDict([(\u001b[38;5;28mstr\u001b[39m(idx), module) \u001b[38;5;28;01mfor\u001b[39;00m idx, module \u001b[38;5;129;01min\u001b[39;00m \u001b[38;5;28menumerate\u001b[39m(modules)])\n",
      "File \u001b[0;32m~/miniconda3/envs/tenx_week7/lib/python3.11/site-packages/sentence_transformers/SentenceTransformer.py:806\u001b[0m, in \u001b[0;36mSentenceTransformer._load_auto_model\u001b[0;34m(self, model_name_or_path)\u001b[0m\n\u001b[1;32m    802\u001b[0m \u001b[38;5;250m\u001b[39m\u001b[38;5;124;03m\"\"\"\u001b[39;00m\n\u001b[1;32m    803\u001b[0m \u001b[38;5;124;03mCreates a simple Transformer + Mean Pooling model and returns the modules\u001b[39;00m\n\u001b[1;32m    804\u001b[0m \u001b[38;5;124;03m\"\"\"\u001b[39;00m\n\u001b[1;32m    805\u001b[0m logger\u001b[38;5;241m.\u001b[39mwarning(\u001b[38;5;124m\"\u001b[39m\u001b[38;5;124mNo sentence-transformers model found with name \u001b[39m\u001b[38;5;132;01m{}\u001b[39;00m\u001b[38;5;124m. Creating a new one with MEAN pooling.\u001b[39m\u001b[38;5;124m\"\u001b[39m\u001b[38;5;241m.\u001b[39mformat(model_name_or_path))\n\u001b[0;32m--> 806\u001b[0m transformer_model \u001b[38;5;241m=\u001b[39m \u001b[43mTransformer\u001b[49m\u001b[43m(\u001b[49m\u001b[43mmodel_name_or_path\u001b[49m\u001b[43m)\u001b[49m\n\u001b[1;32m    807\u001b[0m pooling_model \u001b[38;5;241m=\u001b[39m Pooling(transformer_model\u001b[38;5;241m.\u001b[39mget_word_embedding_dimension(), \u001b[38;5;124m'\u001b[39m\u001b[38;5;124mmean\u001b[39m\u001b[38;5;124m'\u001b[39m)\n\u001b[1;32m    808\u001b[0m \u001b[38;5;28;01mreturn\u001b[39;00m [transformer_model, pooling_model]\n",
      "File \u001b[0;32m~/miniconda3/envs/tenx_week7/lib/python3.11/site-packages/sentence_transformers/models/Transformer.py:29\u001b[0m, in \u001b[0;36mTransformer.__init__\u001b[0;34m(self, model_name_or_path, max_seq_length, model_args, cache_dir, tokenizer_args, do_lower_case, tokenizer_name_or_path)\u001b[0m\n\u001b[1;32m     26\u001b[0m \u001b[38;5;28mself\u001b[39m\u001b[38;5;241m.\u001b[39mdo_lower_case \u001b[38;5;241m=\u001b[39m do_lower_case\n\u001b[1;32m     28\u001b[0m config \u001b[38;5;241m=\u001b[39m AutoConfig\u001b[38;5;241m.\u001b[39mfrom_pretrained(model_name_or_path, \u001b[38;5;241m*\u001b[39m\u001b[38;5;241m*\u001b[39mmodel_args, cache_dir\u001b[38;5;241m=\u001b[39mcache_dir)\n\u001b[0;32m---> 29\u001b[0m \u001b[38;5;28;43mself\u001b[39;49m\u001b[38;5;241;43m.\u001b[39;49m\u001b[43m_load_model\u001b[49m\u001b[43m(\u001b[49m\u001b[43mmodel_name_or_path\u001b[49m\u001b[43m,\u001b[49m\u001b[43m \u001b[49m\u001b[43mconfig\u001b[49m\u001b[43m,\u001b[49m\u001b[43m \u001b[49m\u001b[43mcache_dir\u001b[49m\u001b[43m)\u001b[49m\n\u001b[1;32m     31\u001b[0m \u001b[38;5;28mself\u001b[39m\u001b[38;5;241m.\u001b[39mtokenizer \u001b[38;5;241m=\u001b[39m AutoTokenizer\u001b[38;5;241m.\u001b[39mfrom_pretrained(tokenizer_name_or_path \u001b[38;5;28;01mif\u001b[39;00m tokenizer_name_or_path \u001b[38;5;129;01mis\u001b[39;00m \u001b[38;5;129;01mnot\u001b[39;00m \u001b[38;5;28;01mNone\u001b[39;00m \u001b[38;5;28;01melse\u001b[39;00m model_name_or_path, cache_dir\u001b[38;5;241m=\u001b[39mcache_dir, \u001b[38;5;241m*\u001b[39m\u001b[38;5;241m*\u001b[39mtokenizer_args)\n\u001b[1;32m     33\u001b[0m \u001b[38;5;66;03m#No max_seq_length set. Try to infer from model\u001b[39;00m\n",
      "File \u001b[0;32m~/miniconda3/envs/tenx_week7/lib/python3.11/site-packages/sentence_transformers/models/Transformer.py:49\u001b[0m, in \u001b[0;36mTransformer._load_model\u001b[0;34m(self, model_name_or_path, config, cache_dir)\u001b[0m\n\u001b[1;32m     47\u001b[0m     \u001b[38;5;28mself\u001b[39m\u001b[38;5;241m.\u001b[39m_load_t5_model(model_name_or_path, config, cache_dir)\n\u001b[1;32m     48\u001b[0m \u001b[38;5;28;01melse\u001b[39;00m:\n\u001b[0;32m---> 49\u001b[0m     \u001b[38;5;28mself\u001b[39m\u001b[38;5;241m.\u001b[39mauto_model \u001b[38;5;241m=\u001b[39m \u001b[43mAutoModel\u001b[49m\u001b[38;5;241;43m.\u001b[39;49m\u001b[43mfrom_pretrained\u001b[49m\u001b[43m(\u001b[49m\u001b[43mmodel_name_or_path\u001b[49m\u001b[43m,\u001b[49m\u001b[43m \u001b[49m\u001b[43mconfig\u001b[49m\u001b[38;5;241;43m=\u001b[39;49m\u001b[43mconfig\u001b[49m\u001b[43m,\u001b[49m\u001b[43m \u001b[49m\u001b[43mcache_dir\u001b[49m\u001b[38;5;241;43m=\u001b[39;49m\u001b[43mcache_dir\u001b[49m\u001b[43m)\u001b[49m\n",
      "File \u001b[0;32m~/miniconda3/envs/tenx_week7/lib/python3.11/site-packages/transformers/models/auto/auto_factory.py:484\u001b[0m, in \u001b[0;36m_BaseAutoModelClass.from_pretrained\u001b[0;34m(cls, pretrained_model_name_or_path, *model_args, **kwargs)\u001b[0m\n\u001b[1;32m    482\u001b[0m \u001b[38;5;28;01melif\u001b[39;00m \u001b[38;5;28mtype\u001b[39m(config) \u001b[38;5;129;01min\u001b[39;00m \u001b[38;5;28mcls\u001b[39m\u001b[38;5;241m.\u001b[39m_model_mapping\u001b[38;5;241m.\u001b[39mkeys():\n\u001b[1;32m    483\u001b[0m     model_class \u001b[38;5;241m=\u001b[39m _get_model_class(config, \u001b[38;5;28mcls\u001b[39m\u001b[38;5;241m.\u001b[39m_model_mapping)\n\u001b[0;32m--> 484\u001b[0m     \u001b[38;5;28;01mreturn\u001b[39;00m \u001b[43mmodel_class\u001b[49m\u001b[38;5;241;43m.\u001b[39;49m\u001b[43mfrom_pretrained\u001b[49m\u001b[43m(\u001b[49m\n\u001b[1;32m    485\u001b[0m \u001b[43m        \u001b[49m\u001b[43mpretrained_model_name_or_path\u001b[49m\u001b[43m,\u001b[49m\u001b[43m \u001b[49m\u001b[38;5;241;43m*\u001b[39;49m\u001b[43mmodel_args\u001b[49m\u001b[43m,\u001b[49m\u001b[43m \u001b[49m\u001b[43mconfig\u001b[49m\u001b[38;5;241;43m=\u001b[39;49m\u001b[43mconfig\u001b[49m\u001b[43m,\u001b[49m\u001b[43m \u001b[49m\u001b[38;5;241;43m*\u001b[39;49m\u001b[38;5;241;43m*\u001b[39;49m\u001b[43mhub_kwargs\u001b[49m\u001b[43m,\u001b[49m\u001b[43m \u001b[49m\u001b[38;5;241;43m*\u001b[39;49m\u001b[38;5;241;43m*\u001b[39;49m\u001b[43mkwargs\u001b[49m\n\u001b[1;32m    486\u001b[0m \u001b[43m    \u001b[49m\u001b[43m)\u001b[49m\n\u001b[1;32m    487\u001b[0m \u001b[38;5;28;01mraise\u001b[39;00m \u001b[38;5;167;01mValueError\u001b[39;00m(\n\u001b[1;32m    488\u001b[0m     \u001b[38;5;124mf\u001b[39m\u001b[38;5;124m\"\u001b[39m\u001b[38;5;124mUnrecognized configuration class \u001b[39m\u001b[38;5;132;01m{\u001b[39;00mconfig\u001b[38;5;241m.\u001b[39m\u001b[38;5;18m__class__\u001b[39m\u001b[38;5;132;01m}\u001b[39;00m\u001b[38;5;124m for this kind of AutoModel: \u001b[39m\u001b[38;5;132;01m{\u001b[39;00m\u001b[38;5;28mcls\u001b[39m\u001b[38;5;241m.\u001b[39m\u001b[38;5;18m__name__\u001b[39m\u001b[38;5;132;01m}\u001b[39;00m\u001b[38;5;124m.\u001b[39m\u001b[38;5;130;01m\\n\u001b[39;00m\u001b[38;5;124m\"\u001b[39m\n\u001b[1;32m    489\u001b[0m     \u001b[38;5;124mf\u001b[39m\u001b[38;5;124m\"\u001b[39m\u001b[38;5;124mModel type should be one of \u001b[39m\u001b[38;5;132;01m{\u001b[39;00m\u001b[38;5;124m'\u001b[39m\u001b[38;5;124m, \u001b[39m\u001b[38;5;124m'\u001b[39m\u001b[38;5;241m.\u001b[39mjoin(c\u001b[38;5;241m.\u001b[39m\u001b[38;5;18m__name__\u001b[39m\u001b[38;5;250m \u001b[39m\u001b[38;5;28;01mfor\u001b[39;00m\u001b[38;5;250m \u001b[39mc\u001b[38;5;250m \u001b[39m\u001b[38;5;129;01min\u001b[39;00m\u001b[38;5;250m \u001b[39m\u001b[38;5;28mcls\u001b[39m\u001b[38;5;241m.\u001b[39m_model_mapping\u001b[38;5;241m.\u001b[39mkeys())\u001b[38;5;132;01m}\u001b[39;00m\u001b[38;5;124m.\u001b[39m\u001b[38;5;124m\"\u001b[39m\n\u001b[1;32m    490\u001b[0m )\n",
      "File \u001b[0;32m~/miniconda3/envs/tenx_week7/lib/python3.11/site-packages/transformers/modeling_utils.py:2449\u001b[0m, in \u001b[0;36mPreTrainedModel.from_pretrained\u001b[0;34m(cls, pretrained_model_name_or_path, *model_args, **kwargs)\u001b[0m\n\u001b[1;32m   2443\u001b[0m         \u001b[38;5;28;01mraise\u001b[39;00m \u001b[38;5;167;01mEnvironmentError\u001b[39;00m(\n\u001b[1;32m   2444\u001b[0m             \u001b[38;5;124mf\u001b[39m\u001b[38;5;124m\"\u001b[39m\u001b[38;5;124mError no file named \u001b[39m\u001b[38;5;132;01m{\u001b[39;00m_add_variant(WEIGHTS_NAME,\u001b[38;5;250m \u001b[39mvariant)\u001b[38;5;132;01m}\u001b[39;00m\u001b[38;5;124m found in directory\u001b[39m\u001b[38;5;124m\"\u001b[39m\n\u001b[1;32m   2445\u001b[0m             \u001b[38;5;124mf\u001b[39m\u001b[38;5;124m\"\u001b[39m\u001b[38;5;124m \u001b[39m\u001b[38;5;132;01m{\u001b[39;00mpretrained_model_name_or_path\u001b[38;5;132;01m}\u001b[39;00m\u001b[38;5;124m but there is a file for Flax weights. Use `from_flax=True`\u001b[39m\u001b[38;5;124m\"\u001b[39m\n\u001b[1;32m   2446\u001b[0m             \u001b[38;5;124m\"\u001b[39m\u001b[38;5;124m to load this model from those weights.\u001b[39m\u001b[38;5;124m\"\u001b[39m\n\u001b[1;32m   2447\u001b[0m         )\n\u001b[1;32m   2448\u001b[0m     \u001b[38;5;28;01melse\u001b[39;00m:\n\u001b[0;32m-> 2449\u001b[0m         \u001b[38;5;28;01mraise\u001b[39;00m \u001b[38;5;167;01mEnvironmentError\u001b[39;00m(\n\u001b[1;32m   2450\u001b[0m             \u001b[38;5;124mf\u001b[39m\u001b[38;5;124m\"\u001b[39m\u001b[38;5;124mError no file named \u001b[39m\u001b[38;5;132;01m{\u001b[39;00m_add_variant(WEIGHTS_NAME,\u001b[38;5;250m \u001b[39mvariant)\u001b[38;5;132;01m}\u001b[39;00m\u001b[38;5;124m, \u001b[39m\u001b[38;5;132;01m{\u001b[39;00mTF2_WEIGHTS_NAME\u001b[38;5;132;01m}\u001b[39;00m\u001b[38;5;124m,\u001b[39m\u001b[38;5;124m\"\u001b[39m\n\u001b[1;32m   2451\u001b[0m             \u001b[38;5;124mf\u001b[39m\u001b[38;5;124m\"\u001b[39m\u001b[38;5;124m \u001b[39m\u001b[38;5;132;01m{\u001b[39;00mTF_WEIGHTS_NAME\u001b[38;5;250m \u001b[39m\u001b[38;5;241m+\u001b[39m\u001b[38;5;250m \u001b[39m\u001b[38;5;124m'\u001b[39m\u001b[38;5;124m.index\u001b[39m\u001b[38;5;124m'\u001b[39m\u001b[38;5;132;01m}\u001b[39;00m\u001b[38;5;124m or \u001b[39m\u001b[38;5;132;01m{\u001b[39;00mFLAX_WEIGHTS_NAME\u001b[38;5;132;01m}\u001b[39;00m\u001b[38;5;124m found in directory\u001b[39m\u001b[38;5;124m\"\u001b[39m\n\u001b[1;32m   2452\u001b[0m             \u001b[38;5;124mf\u001b[39m\u001b[38;5;124m\"\u001b[39m\u001b[38;5;124m \u001b[39m\u001b[38;5;132;01m{\u001b[39;00mpretrained_model_name_or_path\u001b[38;5;132;01m}\u001b[39;00m\u001b[38;5;124m.\u001b[39m\u001b[38;5;124m\"\u001b[39m\n\u001b[1;32m   2453\u001b[0m         )\n\u001b[1;32m   2454\u001b[0m \u001b[38;5;28;01melif\u001b[39;00m os\u001b[38;5;241m.\u001b[39mpath\u001b[38;5;241m.\u001b[39misfile(os\u001b[38;5;241m.\u001b[39mpath\u001b[38;5;241m.\u001b[39mjoin(subfolder, pretrained_model_name_or_path)):\n\u001b[1;32m   2455\u001b[0m     archive_file \u001b[38;5;241m=\u001b[39m pretrained_model_name_or_path\n",
      "\u001b[0;31mOSError\u001b[0m: Error no file named pytorch_model.bin, tf_model.h5, model.ckpt.index or flax_model.msgpack found in directory /home/babi/.cache/torch/sentence_transformers/iocuydi_llama-2-amharic-3784m."
     ]
    }
   ],
   "source": [
    "\n",
    "# embedding_model_name = \"sentence-transformers/all-mpnet-base-v2\"\n",
    "embedding_model_name = \"iocuydi/llama-2-amharic-3784m\"\n",
    "# embedding_model_name = \"sentence-transformers/paraphrase-multilingual-mpnet-base-v2\"\n",
    "\n",
    "model_kwargs = {}\n",
    "embeddings = HuggingFaceEmbeddings(\n",
    "  model_name=embedding_model_name, \n",
    "  model_kwargs=model_kwargs\n",
    ")"
   ]
  },
  {
   "cell_type": "code",
   "execution_count": 24,
   "metadata": {},
   "outputs": [
    {
     "name": "stderr",
     "output_type": "stream",
     "text": [
      ".gitattributes: 100%|██████████| 1.35k/1.35k [00:00<00:00, 7.05MB/s]\n",
      "README.md: 100%|██████████| 2.15k/2.15k [00:00<00:00, 16.1MB/s]\n",
      "config.json: 100%|██████████| 617/617 [00:00<00:00, 4.00MB/s]\n",
      "merges.txt: 100%|██████████| 15.4M/15.4M [00:11<00:00, 1.39MB/s]\n",
      "model.safetensors: 100%|██████████| 1.77G/1.77G [03:15<00:00, 9.05MB/s]\n",
      "pytorch_model.bin: 100%|██████████| 1.77G/1.77G [03:05<00:00, 9.55MB/s]\n",
      "training_args.bin: 100%|██████████| 2.29k/2.29k [00:00<00:00, 15.5MB/s]\n",
      "vocab.json: 100%|██████████| 19.5M/19.5M [00:02<00:00, 8.32MB/s]\n",
      "No sentence-transformers model found with name /home/babi/.cache/torch/sentence_transformers/uhhlt_am-roberta. Creating a new one with MEAN pooling.\n",
      "Some weights of RobertaModel were not initialized from the model checkpoint at /home/babi/.cache/torch/sentence_transformers/uhhlt_am-roberta and are newly initialized: ['roberta.pooler.dense.bias', 'roberta.pooler.dense.weight']\n",
      "You should probably TRAIN this model on a down-stream task to be able to use it for predictions and inference.\n"
     ]
    }
   ],
   "source": [
    "\n",
    "# embedding_model_name = \"sentence-transformers/all-mpnet-base-v2\"\n",
    "# emedding_model_name = \"iocuydi/llama-2-amharic-3784m\"\n",
    "embedding_model_name = \"sentence-transformers/paraphrase-multilingual-mpnet-base-v2\"\n",
    "\n",
    "model_kwargs = {}\n",
    "embeddings = HuggingFaceEmbeddings(\n",
    "  model_name=embedding_model_name, \n",
    "  model_kwargs=model_kwargs\n",
    ")"
   ]
  },
  {
   "cell_type": "code",
   "execution_count": 18,
   "metadata": {},
   "outputs": [],
   "source": [
    "def data_loader(file_path: str, chunk_size: int = 500, chunk_overlap: int = 50) -> Union[List[str], None]:\n",
    "    \"\"\"\n",
    "    Load data from a file, split it into chunks, and return the chunks.\n",
    "\n",
    "    Parameters:\n",
    "    - file_path (str): The path to the file containing the data.\n",
    "    - chunk_size (int): The size of each data chunk. Default is 500.\n",
    "    - database (int): The overlap between consecutive chunks. Default is 50.\n",
    "\n",
    "    Returns:\n",
    "    - list: A list of data chunks.\n",
    "    \"\"\"\n",
    "    try:\n",
    "        loader = TextLoader(file_path)\n",
    "        documents = loader.load()\n",
    "\n",
    "        # Chunk the data\n",
    "        text_splitter = CharacterTextSplitter(chunk_size=chunk_size, chunk_overlap=chunk_overlap)\n",
    "        chunks = text_splitter.split_documents(documents)\n",
    "        \n",
    "        print(\"Data loaded to vector database successfully\")\n",
    "        return chunks\n",
    "    except Exception as e:\n",
    "        print(f\"An unexpected error occurred: {e}\")\n",
    "        return None \n",
    "    \n",
    "    \n",
    "def create_retriever(chunks):\n",
    "   try:\n",
    "    #    Setup vector database\n",
    "       client = weaviate.Client(embedded_options=EmbeddedOptions())\n",
    "\n",
    "       # Populate vector database using embeddings from the Hugging Face model\n",
    "       vectorstore = Weaviate.from_documents(\n",
    "           client=client,\n",
    "           documents=chunks,\n",
    "           embedding=embeddings,  # Use the model's encode function for embeddings\n",
    "           by_text=False\n",
    "       )\n",
    "\n",
    "       # Define vectorstore as retriever to enable semantic search\n",
    "       retriever = vectorstore.as_retriever()\n",
    "       print(\"Retriever created successfully.\")\n",
    "\n",
    "       return retriever\n",
    "\n",
    "   except Exception as e:\n",
    "       print(f\"An unexpected error occurred: {e}\")\n",
    "       return None"
   ]
  },
  {
   "cell_type": "markdown",
   "metadata": {},
   "source": [
    "## Load the data and create chunks"
   ]
  },
  {
   "cell_type": "code",
   "execution_count": 5,
   "metadata": {},
   "outputs": [
    {
     "name": "stdout",
     "output_type": "stream",
     "text": [
      "Data loaded to vector database successfully\n"
     ]
    },
    {
     "data": {
      "text/plain": [
       "11"
      ]
     },
     "execution_count": 5,
     "metadata": {},
     "output_type": "execute_result"
    }
   ],
   "source": [
    "chuncks = data_loader(\"../prompts/context.txt\")\n",
    "len(chuncks)"
   ]
  },
  {
   "cell_type": "code",
   "execution_count": 6,
   "metadata": {},
   "outputs": [
    {
     "name": "stderr",
     "output_type": "stream",
     "text": [
      "/home/babi/miniconda3/envs/tenx_week7/lib/python3.11/site-packages/weaviate/warnings.py:158: DeprecationWarning: Dep016: You are using the Weaviate v3 client, which is deprecated.\n",
      "            Consider upgrading to the new and improved v4 client instead!\n",
      "            See here for usage: https://weaviate.io/developers/weaviate/client-libraries/python\n",
      "            \n",
      "  warnings.warn(\n",
      "{\"action\":\"startup\",\"default_vectorizer_module\":\"none\",\"level\":\"info\",\"msg\":\"the default vectorizer modules is set to \\\"none\\\", as a result all new schema classes without an explicit vectorizer setting, will use this vectorizer\",\"time\":\"2024-02-01T10:18:08+03:00\"}\n",
      "{\"action\":\"startup\",\"auto_schema_enabled\":true,\"level\":\"info\",\"msg\":\"auto schema enabled setting is set to \\\"true\\\"\",\"time\":\"2024-02-01T10:18:08+03:00\"}\n",
      "{\"level\":\"info\",\"msg\":\"No resource limits set, weaviate will use all available memory and CPU. To limit resources, set LIMIT_RESOURCES=true\",\"time\":\"2024-02-01T10:18:08+03:00\"}\n"
     ]
    },
    {
     "name": "stdout",
     "output_type": "stream",
     "text": [
      "Started /home/babi/.cache/weaviate-embedded: process ID 30294\n"
     ]
    },
    {
     "name": "stderr",
     "output_type": "stream",
     "text": [
      "{\"level\":\"warning\",\"msg\":\"Multiple vector spaces are present, GraphQL Explore and REST API list objects endpoint module include params has been disabled as a result.\",\"time\":\"2024-02-01T10:18:08+03:00\"}\n",
      "{\"action\":\"grpc_startup\",\"level\":\"info\",\"msg\":\"grpc server listening at [::]:50060\",\"time\":\"2024-02-01T10:18:08+03:00\"}\n",
      "{\"action\":\"restapi_management\",\"level\":\"info\",\"msg\":\"Serving weaviate at http://127.0.0.1:8079\",\"time\":\"2024-02-01T10:18:08+03:00\"}\n",
      "{\"level\":\"info\",\"msg\":\"Completed loading shard langchain_094829e85d36449ab3b283e1ac2fbf04_vqcZmuLhfJ9y in 9.853602ms\",\"time\":\"2024-02-01T10:18:09+03:00\"}\n",
      "{\"level\":\"info\",\"msg\":\"Completed loading shard langchain_698f357610544f228bc230b3c3c1c248_yHzTxe2uDT3I in 3.264151ms\",\"time\":\"2024-02-01T10:18:09+03:00\"}\n",
      "{\"level\":\"info\",\"msg\":\"Completed loading shard langchain_0312ef7773c64bd5a9d3d2ba96f090fb_0TLKGeLxTnEG in 11.097574ms\",\"time\":\"2024-02-01T10:18:09+03:00\"}\n",
      "{\"action\":\"hnsw_vector_cache_prefill\",\"count\":3000,\"index_id\":\"main\",\"level\":\"info\",\"limit\":1000000000000,\"msg\":\"prefilled vector cache\",\"time\":\"2024-02-01T10:18:09+03:00\",\"took\":86555}\n",
      "{\"action\":\"hnsw_vector_cache_prefill\",\"count\":3000,\"index_id\":\"main\",\"level\":\"info\",\"limit\":1000000000000,\"msg\":\"prefilled vector cache\",\"time\":\"2024-02-01T10:18:09+03:00\",\"took\":76483}\n",
      "{\"level\":\"info\",\"msg\":\"Completed loading shard langchain_0a43cce8a9f54813a3ad4f3d498d6434_NISdUtmHet4a in 11.841037ms\",\"time\":\"2024-02-01T10:18:09+03:00\"}\n",
      "{\"action\":\"hnsw_vector_cache_prefill\",\"count\":3000,\"index_id\":\"main\",\"level\":\"info\",\"limit\":1000000000000,\"msg\":\"prefilled vector cache\",\"time\":\"2024-02-01T10:18:09+03:00\",\"took\":73353}\n",
      "{\"level\":\"info\",\"msg\":\"Completed loading shard langchain_044064392d3242a8a33f73f528a27f1d_92wb8jcjigPk in 12.599499ms\",\"time\":\"2024-02-01T10:18:09+03:00\"}\n",
      "{\"action\":\"hnsw_vector_cache_prefill\",\"count\":3000,\"index_id\":\"main\",\"level\":\"info\",\"limit\":1000000000000,\"msg\":\"prefilled vector cache\",\"time\":\"2024-02-01T10:18:09+03:00\",\"took\":160056}\n",
      "{\"action\":\"hnsw_vector_cache_prefill\",\"count\":3000,\"index_id\":\"main\",\"level\":\"info\",\"limit\":1000000000000,\"msg\":\"prefilled vector cache\",\"time\":\"2024-02-01T10:18:09+03:00\",\"took\":273486}\n",
      "{\"level\":\"info\",\"msg\":\"Completed loading shard langchain_2287c33037f843a0a691ee7c3ca217ff_UHNPzeo6TFps in 47.946194ms\",\"time\":\"2024-02-01T10:18:09+03:00\"}\n",
      "{\"action\":\"hnsw_vector_cache_prefill\",\"count\":3000,\"index_id\":\"main\",\"level\":\"info\",\"limit\":1000000000000,\"msg\":\"prefilled vector cache\",\"time\":\"2024-02-01T10:18:09+03:00\",\"took\":83012}\n",
      "{\"level\":\"info\",\"msg\":\"Completed loading shard langchain_de020582bc7c47ff94750419fe27bc0a_ZaPywvohnTsX in 49.89014ms\",\"time\":\"2024-02-01T10:18:09+03:00\"}\n",
      "{\"action\":\"hnsw_vector_cache_prefill\",\"count\":3000,\"index_id\":\"main\",\"level\":\"info\",\"limit\":1000000000000,\"msg\":\"prefilled vector cache\",\"time\":\"2024-02-01T10:18:09+03:00\",\"took\":93931}\n",
      "{\"level\":\"info\",\"msg\":\"Completed loading shard langchain_ac8d1707c3e14e42b2f3bb65ab8540f3_fgTj1UOo3Lyl in 60.872035ms\",\"time\":\"2024-02-01T10:18:09+03:00\"}\n",
      "{\"action\":\"hnsw_vector_cache_prefill\",\"count\":3000,\"index_id\":\"main\",\"level\":\"info\",\"limit\":1000000000000,\"msg\":\"prefilled vector cache\",\"time\":\"2024-02-01T10:18:09+03:00\",\"took\":85846}\n",
      "{\"level\":\"info\",\"msg\":\"Completed loading shard langchain_66b4400d9994425ca7e1eb543bcb3041_MpzRapwC4z4d in 65.852225ms\",\"time\":\"2024-02-01T10:18:09+03:00\"}\n",
      "{\"level\":\"info\",\"msg\":\"Created shard langchain_6f33a881c8a44172be4810d8caef00b7_DWxAhPY1dH9Y in 1.024957ms\",\"time\":\"2024-02-01T10:18:09+03:00\"}\n",
      "{\"action\":\"hnsw_vector_cache_prefill\",\"count\":1000,\"index_id\":\"main\",\"level\":\"info\",\"limit\":1000000000000,\"msg\":\"prefilled vector cache\",\"time\":\"2024-02-01T10:18:09+03:00\",\"took\":93212}\n",
      "{\"level\":\"info\",\"msg\":\"Completed loading shard langchain_12d21afc8bd941749f3413f7862f3a0e_LJQY2or5Gsvq in 73.310893ms\",\"time\":\"2024-02-01T10:18:09+03:00\"}\n",
      "{\"level\":\"info\",\"msg\":\"Completed loading shard langchain_b7a0bda536a0440180ce6d5bb90cf02d_wrktB5e6743b in 61.467832ms\",\"time\":\"2024-02-01T10:18:09+03:00\"}\n",
      "{\"action\":\"hnsw_vector_cache_prefill\",\"count\":3000,\"index_id\":\"main\",\"level\":\"info\",\"limit\":1000000000000,\"msg\":\"prefilled vector cache\",\"time\":\"2024-02-01T10:18:09+03:00\",\"took\":88552}\n",
      "{\"action\":\"hnsw_vector_cache_prefill\",\"count\":3000,\"index_id\":\"main\",\"level\":\"info\",\"limit\":1000000000000,\"msg\":\"prefilled vector cache\",\"time\":\"2024-02-01T10:18:09+03:00\",\"took\":91911}\n",
      "{\"level\":\"info\",\"msg\":\"Completed loading shard langchain_83bb50859fcf4f7dbda201a126101d39_GjLVFWvBwn0m in 53.601133ms\",\"time\":\"2024-02-01T10:18:09+03:00\"}\n",
      "{\"level\":\"info\",\"msg\":\"Completed loading shard langchain_ca8ec0bb08804f2f855837a6932b5460_hBfuKUptHV8z in 53.99453ms\",\"time\":\"2024-02-01T10:18:09+03:00\"}\n",
      "{\"action\":\"hnsw_vector_cache_prefill\",\"count\":3000,\"index_id\":\"main\",\"level\":\"info\",\"limit\":1000000000000,\"msg\":\"prefilled vector cache\",\"time\":\"2024-02-01T10:18:09+03:00\",\"took\":90231}\n",
      "{\"action\":\"hnsw_vector_cache_prefill\",\"count\":3000,\"index_id\":\"main\",\"level\":\"info\",\"limit\":1000000000000,\"msg\":\"prefilled vector cache\",\"time\":\"2024-02-01T10:18:09+03:00\",\"took\":86981}\n",
      "{\"level\":\"info\",\"msg\":\"Completed loading shard langchain_8e4321718d2c46bd9d6cc0363aa3b8a1_QJa2AEzabs8Z in 66.373785ms\",\"time\":\"2024-02-01T10:18:09+03:00\"}\n",
      "{\"action\":\"hnsw_vector_cache_prefill\",\"count\":3000,\"index_id\":\"main\",\"level\":\"info\",\"limit\":1000000000000,\"msg\":\"prefilled vector cache\",\"time\":\"2024-02-01T10:18:09+03:00\",\"took\":161667}\n",
      "{\"level\":\"info\",\"msg\":\"Completed loading shard langchain_198c544d7c454b1eb547b172cbd3d3f2_Zoub04C5GCZy in 75.21581ms\",\"time\":\"2024-02-01T10:18:09+03:00\"}\n",
      "{\"action\":\"hnsw_vector_cache_prefill\",\"count\":3000,\"index_id\":\"main\",\"level\":\"info\",\"limit\":1000000000000,\"msg\":\"prefilled vector cache\",\"time\":\"2024-02-01T10:18:09+03:00\",\"took\":90107}\n",
      "{\"level\":\"info\",\"msg\":\"Completed loading shard langchain_239d2792dc5e4e2abbb2c8c36f96f9c2_j3K0Ny9bkKfi in 69.60962ms\",\"time\":\"2024-02-01T10:18:09+03:00\"}\n",
      "{\"action\":\"hnsw_vector_cache_prefill\",\"count\":3000,\"index_id\":\"main\",\"level\":\"info\",\"limit\":1000000000000,\"msg\":\"prefilled vector cache\",\"time\":\"2024-02-01T10:18:09+03:00\",\"took\":91582}\n",
      "{\"action\":\"hnsw_vector_cache_prefill\",\"count\":3000,\"index_id\":\"main\",\"level\":\"info\",\"limit\":1000000000000,\"msg\":\"prefilled vector cache\",\"time\":\"2024-02-01T10:18:09+03:00\",\"took\":90438}\n",
      "{\"level\":\"info\",\"msg\":\"Completed loading shard langchain_fcc9bc095d134228bb9b7ff8e5f9dd3e_5ImU9dQmww41 in 58.193394ms\",\"time\":\"2024-02-01T10:18:09+03:00\"}\n",
      "{\"action\":\"hnsw_vector_cache_prefill\",\"count\":3000,\"index_id\":\"main\",\"level\":\"info\",\"limit\":1000000000000,\"msg\":\"prefilled vector cache\",\"time\":\"2024-02-01T10:18:09+03:00\",\"took\":89111}\n",
      "{\"level\":\"info\",\"msg\":\"Completed loading shard langchain_a82a03a728dd4873b47137ecec1996da_X880GrXTzAmC in 68.572997ms\",\"time\":\"2024-02-01T10:18:09+03:00\"}\n",
      "{\"level\":\"info\",\"msg\":\"Completed loading shard langchain_b3743bfe41ae4f54a2f9419c91f60511_oBMpY4s7j7gS in 57.977991ms\",\"time\":\"2024-02-01T10:18:09+03:00\"}\n",
      "{\"action\":\"hnsw_vector_cache_prefill\",\"count\":3000,\"index_id\":\"main\",\"level\":\"info\",\"limit\":1000000000000,\"msg\":\"prefilled vector cache\",\"time\":\"2024-02-01T10:18:09+03:00\",\"took\":82260}\n",
      "{\"action\":\"hnsw_vector_cache_prefill\",\"count\":3000,\"index_id\":\"main\",\"level\":\"info\",\"limit\":1000000000000,\"msg\":\"prefilled vector cache\",\"time\":\"2024-02-01T10:18:09+03:00\",\"took\":85038}\n",
      "{\"level\":\"info\",\"msg\":\"Completed loading shard langchain_00b249fe17924277a770d96c9dcbaff0_tfPI911fNk1H in 80.280021ms\",\"time\":\"2024-02-01T10:18:09+03:00\"}\n",
      "{\"action\":\"hnsw_vector_cache_prefill\",\"count\":3000,\"index_id\":\"main\",\"level\":\"info\",\"limit\":1000000000000,\"msg\":\"prefilled vector cache\",\"time\":\"2024-02-01T10:18:09+03:00\",\"took\":159844}\n",
      "{\"level\":\"info\",\"msg\":\"Completed loading shard langchain_133fb572c0784fe9b7544b27354d2e3a_4kCtu55fH4aJ in 74.679114ms\",\"time\":\"2024-02-01T10:18:09+03:00\"}\n",
      "{\"level\":\"info\",\"msg\":\"Completed loading shard langchain_8067657dfd384c87b43b160520e1d2f0_XVZpTN4Qsebf in 61.01499ms\",\"time\":\"2024-02-01T10:18:09+03:00\"}\n",
      "{\"action\":\"hnsw_vector_cache_prefill\",\"count\":3000,\"index_id\":\"main\",\"level\":\"info\",\"limit\":1000000000000,\"msg\":\"prefilled vector cache\",\"time\":\"2024-02-01T10:18:09+03:00\",\"took\":86685}\n",
      "{\"action\":\"hnsw_vector_cache_prefill\",\"count\":3000,\"index_id\":\"main\",\"level\":\"info\",\"limit\":1000000000000,\"msg\":\"prefilled vector cache\",\"time\":\"2024-02-01T10:18:09+03:00\",\"took\":147236}\n",
      "{\"level\":\"info\",\"msg\":\"Completed loading shard langchain_e8be247f8f6845cdafe8b6affd2734f4_JtXVAls3BTra in 57.481301ms\",\"time\":\"2024-02-01T10:18:09+03:00\"}\n",
      "{\"action\":\"hnsw_vector_cache_prefill\",\"count\":3000,\"index_id\":\"main\",\"level\":\"info\",\"limit\":1000000000000,\"msg\":\"prefilled vector cache\",\"time\":\"2024-02-01T10:18:09+03:00\",\"took\":146335}\n",
      "{\"level\":\"info\",\"msg\":\"Completed loading shard langchain_0b81d9e3eaff430ca773ae73e8746670_O2AHC9ofO3bw in 82.09202ms\",\"time\":\"2024-02-01T10:18:09+03:00\"}\n",
      "{\"action\":\"hnsw_vector_cache_prefill\",\"count\":3000,\"index_id\":\"main\",\"level\":\"info\",\"limit\":1000000000000,\"msg\":\"prefilled vector cache\",\"time\":\"2024-02-01T10:18:09+03:00\",\"took\":200077}\n",
      "{\"level\":\"info\",\"msg\":\"Completed loading shard langchain_7b7f5764552a48a7af2fcbbc8a09143e_3COgv4JNXIVP in 73.416931ms\",\"time\":\"2024-02-01T10:18:09+03:00\"}\n",
      "{\"level\":\"info\",\"msg\":\"Completed loading shard langchain_c2681a8ffc76420db9d8028730a9c2ed_UFUgjBBDPgWg in 61.385287ms\",\"time\":\"2024-02-01T10:18:09+03:00\"}\n",
      "{\"action\":\"hnsw_vector_cache_prefill\",\"count\":3000,\"index_id\":\"main\",\"level\":\"info\",\"limit\":1000000000000,\"msg\":\"prefilled vector cache\",\"time\":\"2024-02-01T10:18:09+03:00\",\"took\":723383}\n",
      "{\"action\":\"hnsw_vector_cache_prefill\",\"count\":3000,\"index_id\":\"main\",\"level\":\"info\",\"limit\":1000000000000,\"msg\":\"prefilled vector cache\",\"time\":\"2024-02-01T10:18:09+03:00\",\"took\":2460466}\n",
      "{\"level\":\"info\",\"msg\":\"Completed loading shard langchain_c0d3b805a92741a3b7c67f0d5ba1cfd2_kyK609sNogOA in 104.235414ms\",\"time\":\"2024-02-01T10:18:09+03:00\"}\n",
      "{\"level\":\"info\",\"msg\":\"Completed loading shard langchain_26666663df8145759ff4ae05bfd0b380_ZErds8qG0OhT in 117.19432ms\",\"time\":\"2024-02-01T10:18:09+03:00\"}\n",
      "{\"action\":\"hnsw_vector_cache_prefill\",\"count\":3000,\"index_id\":\"main\",\"level\":\"info\",\"limit\":1000000000000,\"msg\":\"prefilled vector cache\",\"time\":\"2024-02-01T10:18:09+03:00\",\"took\":87565}\n",
      "{\"action\":\"hnsw_vector_cache_prefill\",\"count\":3000,\"index_id\":\"main\",\"level\":\"info\",\"limit\":1000000000000,\"msg\":\"prefilled vector cache\",\"time\":\"2024-02-01T10:18:09+03:00\",\"took\":83787}\n",
      "{\"level\":\"info\",\"msg\":\"Completed loading shard langchain_3dae534c1d4b4e1d837fe6bf85642817_giWKfwQSgDlY in 117.809966ms\",\"time\":\"2024-02-01T10:18:09+03:00\"}\n",
      "{\"action\":\"hnsw_vector_cache_prefill\",\"count\":3000,\"index_id\":\"main\",\"level\":\"info\",\"limit\":1000000000000,\"msg\":\"prefilled vector cache\",\"time\":\"2024-02-01T10:18:09+03:00\",\"took\":177023}\n",
      "{\"level\":\"info\",\"msg\":\"Completed loading shard langchain_e96d64b20f0847159e3f8e1a541a9a6d_7xqZq61YOfAj in 104.397356ms\",\"time\":\"2024-02-01T10:18:09+03:00\"}\n",
      "{\"action\":\"hnsw_vector_cache_prefill\",\"count\":3000,\"index_id\":\"main\",\"level\":\"info\",\"limit\":1000000000000,\"msg\":\"prefilled vector cache\",\"time\":\"2024-02-01T10:18:09+03:00\",\"took\":102853}\n",
      "{\"level\":\"info\",\"msg\":\"Completed loading shard langchain_fdee1dcd1aa348acac39bccdbdaddd81_R7hDToyb91tX in 102.836041ms\",\"time\":\"2024-02-01T10:18:09+03:00\"}\n",
      "{\"action\":\"hnsw_vector_cache_prefill\",\"count\":3000,\"index_id\":\"main\",\"level\":\"info\",\"limit\":1000000000000,\"msg\":\"prefilled vector cache\",\"time\":\"2024-02-01T10:18:09+03:00\",\"took\":117390}\n",
      "{\"level\":\"info\",\"msg\":\"Completed loading shard langchain_7b6349d24ab943339c53f093e3c158a9_5zhMpC0u9M4g in 106.529295ms\",\"time\":\"2024-02-01T10:18:09+03:00\"}\n",
      "{\"action\":\"hnsw_vector_cache_prefill\",\"count\":3000,\"index_id\":\"main\",\"level\":\"info\",\"limit\":1000000000000,\"msg\":\"prefilled vector cache\",\"time\":\"2024-02-01T10:18:09+03:00\",\"took\":91998}\n",
      "{\"level\":\"info\",\"msg\":\"Completed loading shard langchain_af6aed16438d479a8de64da5c5e6ecc0_dkyxFf84TnHW in 116.459882ms\",\"time\":\"2024-02-01T10:18:09+03:00\"}\n",
      "{\"action\":\"hnsw_vector_cache_prefill\",\"count\":3000,\"index_id\":\"main\",\"level\":\"info\",\"limit\":1000000000000,\"msg\":\"prefilled vector cache\",\"time\":\"2024-02-01T10:18:09+03:00\",\"took\":152467}\n",
      "{\"level\":\"info\",\"msg\":\"Completed loading shard langchain_5cc378ce712242cb949dddc4f21272e9_UbULVzx44tL3 in 121.347852ms\",\"time\":\"2024-02-01T10:18:09+03:00\"}\n",
      "{\"action\":\"hnsw_vector_cache_prefill\",\"count\":3000,\"index_id\":\"main\",\"level\":\"info\",\"limit\":1000000000000,\"msg\":\"prefilled vector cache\",\"time\":\"2024-02-01T10:18:09+03:00\",\"took\":1995547}\n",
      "{\"level\":\"info\",\"msg\":\"Completed loading shard langchain_9ad5ae5cc05e4e3da5ce4b05f57fdd64_ab3kpDhXe37j in 121.562248ms\",\"time\":\"2024-02-01T10:18:09+03:00\"}\n",
      "{\"action\":\"hnsw_vector_cache_prefill\",\"count\":3000,\"index_id\":\"main\",\"level\":\"info\",\"limit\":1000000000000,\"msg\":\"prefilled vector cache\",\"time\":\"2024-02-01T10:18:09+03:00\",\"took\":144089}\n",
      "{\"level\":\"info\",\"msg\":\"Completed loading shard langchain_94318bbb3db241aba328b2891fd99d6c_zIkOarNqfoeG in 111.749752ms\",\"time\":\"2024-02-01T10:18:09+03:00\"}\n",
      "{\"action\":\"hnsw_vector_cache_prefill\",\"count\":3000,\"index_id\":\"main\",\"level\":\"info\",\"limit\":1000000000000,\"msg\":\"prefilled vector cache\",\"time\":\"2024-02-01T10:18:09+03:00\",\"took\":99359}\n",
      "{\"level\":\"info\",\"msg\":\"Completed loading shard langchain_5125cd6873384faa9eb7e1ce526d7323_ZPDkffgDLlLD in 126.431443ms\",\"time\":\"2024-02-01T10:18:09+03:00\"}\n",
      "{\"action\":\"hnsw_vector_cache_prefill\",\"count\":3000,\"index_id\":\"main\",\"level\":\"info\",\"limit\":1000000000000,\"msg\":\"prefilled vector cache\",\"time\":\"2024-02-01T10:18:09+03:00\",\"took\":87547}\n",
      "{\"level\":\"info\",\"msg\":\"Completed loading shard langchain_a6eba2f152244c3eb5656ab1e7af625f_6dNvW4KhHxxV in 124.34845ms\",\"time\":\"2024-02-01T10:18:09+03:00\"}\n",
      "{\"level\":\"info\",\"msg\":\"Completed loading shard langchain_58545170b3b84b29896475d83524695a_pLaXH0W2gCyA in 128.807546ms\",\"time\":\"2024-02-01T10:18:09+03:00\"}\n",
      "{\"action\":\"hnsw_vector_cache_prefill\",\"count\":3000,\"index_id\":\"main\",\"level\":\"info\",\"limit\":1000000000000,\"msg\":\"prefilled vector cache\",\"time\":\"2024-02-01T10:18:09+03:00\",\"took\":796272}\n",
      "{\"level\":\"info\",\"msg\":\"Completed loading shard langchain_79e2deca675b44f1b61e27b674dd9659_urhVawsDj8pD in 117.029138ms\",\"time\":\"2024-02-01T10:18:09+03:00\"}\n",
      "{\"action\":\"hnsw_vector_cache_prefill\",\"count\":3000,\"index_id\":\"main\",\"level\":\"info\",\"limit\":1000000000000,\"msg\":\"prefilled vector cache\",\"time\":\"2024-02-01T10:18:09+03:00\",\"took\":96124}\n",
      "{\"level\":\"info\",\"msg\":\"Completed loading shard langchain_496a3e4e7bf94f77b1ddf43b9f7cec85_rqWMZQKSavMl in 132.625987ms\",\"time\":\"2024-02-01T10:18:09+03:00\"}\n",
      "{\"level\":\"info\",\"msg\":\"Completed loading shard langchain_dfad81fac8e04bf9a5dc95399e7c1293_mUFMm1hng3t7 in 119.345498ms\",\"time\":\"2024-02-01T10:18:09+03:00\"}\n",
      "{\"action\":\"hnsw_vector_cache_prefill\",\"count\":3000,\"index_id\":\"main\",\"level\":\"info\",\"limit\":1000000000000,\"msg\":\"prefilled vector cache\",\"time\":\"2024-02-01T10:18:09+03:00\",\"took\":137448}\n",
      "{\"level\":\"info\",\"msg\":\"Completed loading shard langchain_a7e595f086f94b21ade6a8ae4d084d50_gwFtKePgZAHY in 117.308861ms\",\"time\":\"2024-02-01T10:18:09+03:00\"}\n",
      "{\"action\":\"hnsw_vector_cache_prefill\",\"count\":3000,\"index_id\":\"main\",\"level\":\"info\",\"limit\":1000000000000,\"msg\":\"prefilled vector cache\",\"time\":\"2024-02-01T10:18:09+03:00\",\"took\":111637}\n",
      "{\"action\":\"hnsw_vector_cache_prefill\",\"count\":3000,\"index_id\":\"main\",\"level\":\"info\",\"limit\":1000000000000,\"msg\":\"prefilled vector cache\",\"time\":\"2024-02-01T10:18:09+03:00\",\"took\":125345}\n",
      "{\"level\":\"info\",\"msg\":\"Completed loading shard langchain_27909b9fdb7a488d8ff0a8d01137ed9a_IFose2oTztrN in 135.571366ms\",\"time\":\"2024-02-01T10:18:09+03:00\"}\n",
      "{\"action\":\"hnsw_vector_cache_prefill\",\"count\":3000,\"index_id\":\"main\",\"level\":\"info\",\"limit\":1000000000000,\"msg\":\"prefilled vector cache\",\"time\":\"2024-02-01T10:18:09+03:00\",\"took\":94189}\n",
      "{\"action\":\"hnsw_vector_cache_prefill\",\"count\":3000,\"index_id\":\"main\",\"level\":\"info\",\"limit\":1000000000000,\"msg\":\"prefilled vector cache\",\"time\":\"2024-02-01T10:18:09+03:00\",\"took\":640596}\n",
      "{\"level\":\"info\",\"msg\":\"Completed loading shard langchain_b9f4450563a54709ab32be6288d775a7_9VwJ8duTANxJ in 124.643019ms\",\"time\":\"2024-02-01T10:18:09+03:00\"}\n",
      "{\"action\":\"hnsw_vector_cache_prefill\",\"count\":3000,\"index_id\":\"main\",\"level\":\"info\",\"limit\":1000000000000,\"msg\":\"prefilled vector cache\",\"time\":\"2024-02-01T10:18:09+03:00\",\"took\":155705}\n",
      "{\"level\":\"info\",\"msg\":\"Completed loading shard langchain_19638f81ce5d4b4e9b9413567833f7ce_G1GroA34q0mL in 144.716283ms\",\"time\":\"2024-02-01T10:18:09+03:00\"}\n",
      "{\"action\":\"hnsw_vector_cache_prefill\",\"count\":3000,\"index_id\":\"main\",\"level\":\"info\",\"limit\":1000000000000,\"msg\":\"prefilled vector cache\",\"time\":\"2024-02-01T10:18:09+03:00\",\"took\":146109}\n",
      "{\"level\":\"info\",\"msg\":\"Completed loading shard langchain_d9ee0a6d3bac401d885a09b6138ab928_uwTQuRilvOfW in 125.669642ms\",\"time\":\"2024-02-01T10:18:09+03:00\"}\n",
      "{\"action\":\"hnsw_vector_cache_prefill\",\"count\":3000,\"index_id\":\"main\",\"level\":\"info\",\"limit\":1000000000000,\"msg\":\"prefilled vector cache\",\"time\":\"2024-02-01T10:18:09+03:00\",\"took\":141208}\n",
      "{\"level\":\"info\",\"msg\":\"Completed loading shard langchain_653cbe3e6689480293e4a8215b930959_nlo2bDOgVacv in 141.001018ms\",\"time\":\"2024-02-01T10:18:09+03:00\"}\n",
      "{\"level\":\"info\",\"msg\":\"Completed loading shard langchain_a136104104f14d6ab12f98e6d39d11ca_1sAiUUcGKQew in 128.394567ms\",\"time\":\"2024-02-01T10:18:09+03:00\"}\n",
      "{\"action\":\"hnsw_vector_cache_prefill\",\"count\":3000,\"index_id\":\"main\",\"level\":\"info\",\"limit\":1000000000000,\"msg\":\"prefilled vector cache\",\"time\":\"2024-02-01T10:18:09+03:00\",\"took\":93183}\n",
      "{\"action\":\"hnsw_vector_cache_prefill\",\"count\":3000,\"index_id\":\"main\",\"level\":\"info\",\"limit\":1000000000000,\"msg\":\"prefilled vector cache\",\"time\":\"2024-02-01T10:18:09+03:00\",\"took\":1023307}\n",
      "{\"level\":\"info\",\"msg\":\"Completed loading shard langchain_28f3bb7c9b5247ca9a2432f01796c027_a8dhg0N9Rrpj in 142.900255ms\",\"time\":\"2024-02-01T10:18:09+03:00\"}\n",
      "{\"action\":\"hnsw_vector_cache_prefill\",\"count\":3000,\"index_id\":\"main\",\"level\":\"info\",\"limit\":1000000000000,\"msg\":\"prefilled vector cache\",\"time\":\"2024-02-01T10:18:09+03:00\",\"took\":145660}\n",
      "{\"level\":\"info\",\"msg\":\"Completed loading shard langchain_249710fa43a04b028c6088aa0bcb5637_5JcTAjbnLlS2 in 143.284425ms\",\"time\":\"2024-02-01T10:18:09+03:00\"}\n",
      "{\"action\":\"hnsw_vector_cache_prefill\",\"count\":3000,\"index_id\":\"main\",\"level\":\"info\",\"limit\":1000000000000,\"msg\":\"prefilled vector cache\",\"time\":\"2024-02-01T10:18:09+03:00\",\"took\":78350}\n",
      "{\"level\":\"info\",\"msg\":\"Completed loading shard langchain_a123bfc441ec42dc975cdacf35cc9168_H2WVKppAR39N in 128.493558ms\",\"time\":\"2024-02-01T10:18:09+03:00\"}\n",
      "{\"action\":\"hnsw_vector_cache_prefill\",\"count\":3000,\"index_id\":\"main\",\"level\":\"info\",\"limit\":1000000000000,\"msg\":\"prefilled vector cache\",\"time\":\"2024-02-01T10:18:09+03:00\",\"took\":2017101}\n",
      "{\"level\":\"info\",\"msg\":\"Completed loading shard langchain_3befa79eada749aea183be1ebacf70bd_WMM4etojJlF5 in 146.246026ms\",\"time\":\"2024-02-01T10:18:09+03:00\"}\n",
      "{\"level\":\"info\",\"msg\":\"Completed loading shard langchain_78ed6a839d3c4511afbea769d07fa4b4_tVW90pJotLEI in 147.04743ms\",\"time\":\"2024-02-01T10:18:09+03:00\"}\n",
      "{\"action\":\"hnsw_vector_cache_prefill\",\"count\":3000,\"index_id\":\"main\",\"level\":\"info\",\"limit\":1000000000000,\"msg\":\"prefilled vector cache\",\"time\":\"2024-02-01T10:18:09+03:00\",\"took\":1664826}\n",
      "{\"action\":\"hnsw_vector_cache_prefill\",\"count\":3000,\"index_id\":\"main\",\"level\":\"info\",\"limit\":1000000000000,\"msg\":\"prefilled vector cache\",\"time\":\"2024-02-01T10:18:09+03:00\",\"took\":212473}\n",
      "{\"level\":\"info\",\"msg\":\"Completed loading shard langchain_fdfed8d23d1a4ed68f96696c92af7b45_azU29epaDNmO in 135.686297ms\",\"time\":\"2024-02-01T10:18:09+03:00\"}\n",
      "{\"action\":\"hnsw_vector_cache_prefill\",\"count\":3000,\"index_id\":\"main\",\"level\":\"info\",\"limit\":1000000000000,\"msg\":\"prefilled vector cache\",\"time\":\"2024-02-01T10:18:09+03:00\",\"took\":215389}\n",
      "{\"level\":\"info\",\"msg\":\"Completed loading shard langchain_e79a626d630c42518cd11d6471b617f8_uvynfNGia2ly in 139.350535ms\",\"time\":\"2024-02-01T10:18:09+03:00\"}\n",
      "{\"action\":\"hnsw_vector_cache_prefill\",\"count\":3000,\"index_id\":\"main\",\"level\":\"info\",\"limit\":1000000000000,\"msg\":\"prefilled vector cache\",\"time\":\"2024-02-01T10:18:09+03:00\",\"took\":176527}\n",
      "{\"level\":\"info\",\"msg\":\"Completed loading shard langchain_5fc955b930854bd0ab167a7b9d59f001_XZKVCSQkonBm in 157.325948ms\",\"time\":\"2024-02-01T10:18:09+03:00\"}\n",
      "{\"action\":\"hnsw_vector_cache_prefill\",\"count\":3000,\"index_id\":\"main\",\"level\":\"info\",\"limit\":1000000000000,\"msg\":\"prefilled vector cache\",\"time\":\"2024-02-01T10:18:09+03:00\",\"took\":148264}\n",
      "{\"level\":\"info\",\"msg\":\"Completed loading shard langchain_27dcfe368f6b4d958ffa669f7933d370_l6OE6laKks9L in 161.527565ms\",\"time\":\"2024-02-01T10:18:09+03:00\"}\n",
      "{\"level\":\"info\",\"msg\":\"Completed loading shard langchain_c7caa635303c448e95b5f71ba08b2956_aFk0U0CKJvlt in 148.764691ms\",\"time\":\"2024-02-01T10:18:09+03:00\"}\n",
      "{\"action\":\"hnsw_vector_cache_prefill\",\"count\":3000,\"index_id\":\"main\",\"level\":\"info\",\"limit\":1000000000000,\"msg\":\"prefilled vector cache\",\"time\":\"2024-02-01T10:18:09+03:00\",\"took\":282080}\n",
      "{\"level\":\"info\",\"msg\":\"Completed loading shard langchain_64e8bc4c10c144a2ad58860149b405d1_86sJWLTUFxo5 in 162.710699ms\",\"time\":\"2024-02-01T10:18:09+03:00\"}\n",
      "{\"action\":\"hnsw_vector_cache_prefill\",\"count\":3000,\"index_id\":\"main\",\"level\":\"info\",\"limit\":1000000000000,\"msg\":\"prefilled vector cache\",\"time\":\"2024-02-01T10:18:09+03:00\",\"took\":106343}\n",
      "{\"action\":\"hnsw_vector_cache_prefill\",\"count\":3000,\"index_id\":\"main\",\"level\":\"info\",\"limit\":1000000000000,\"msg\":\"prefilled vector cache\",\"time\":\"2024-02-01T10:18:09+03:00\",\"took\":1571033}\n",
      "{\"level\":\"info\",\"msg\":\"Completed loading shard langchain_432ee6dc833f4f6ebbbfb60aef908677_Ma54FlFUae9Q in 163.589644ms\",\"time\":\"2024-02-01T10:18:09+03:00\"}\n",
      "{\"action\":\"hnsw_vector_cache_prefill\",\"count\":3000,\"index_id\":\"main\",\"level\":\"info\",\"limit\":1000000000000,\"msg\":\"prefilled vector cache\",\"time\":\"2024-02-01T10:18:09+03:00\",\"took\":183927}\n",
      "{\"level\":\"info\",\"msg\":\"Completed loading shard langchain_af948f2a7ab9408c8520bb65e61e194e_TjXRAnf6gwlZ in 159.787776ms\",\"time\":\"2024-02-01T10:18:09+03:00\"}\n",
      "{\"level\":\"info\",\"msg\":\"Completed loading shard langchain_e77729ad663b497aa676bf270f0c83a3_4Ffn1FVZwVF8 in 148.333171ms\",\"time\":\"2024-02-01T10:18:09+03:00\"}\n",
      "{\"action\":\"hnsw_vector_cache_prefill\",\"count\":3000,\"index_id\":\"main\",\"level\":\"info\",\"limit\":1000000000000,\"msg\":\"prefilled vector cache\",\"time\":\"2024-02-01T10:18:09+03:00\",\"took\":184517}\n",
      "{\"action\":\"hnsw_vector_cache_prefill\",\"count\":3000,\"index_id\":\"main\",\"level\":\"info\",\"limit\":1000000000000,\"msg\":\"prefilled vector cache\",\"time\":\"2024-02-01T10:18:09+03:00\",\"took\":238600}\n",
      "{\"level\":\"info\",\"msg\":\"Completed loading shard langchain_f33e43be1b0440458cd75d780b8a227f_2z6bYMvXXbWt in 150.423899ms\",\"time\":\"2024-02-01T10:18:09+03:00\"}\n",
      "{\"level\":\"info\",\"msg\":\"Completed loading shard langchain_4d0a9a62ea9d447ab137ed1062a18e7f_qcocbx6c3vWD in 165.046609ms\",\"time\":\"2024-02-01T10:18:09+03:00\"}\n",
      "{\"action\":\"hnsw_vector_cache_prefill\",\"count\":3000,\"index_id\":\"main\",\"level\":\"info\",\"limit\":1000000000000,\"msg\":\"prefilled vector cache\",\"time\":\"2024-02-01T10:18:09+03:00\",\"took\":109734}\n",
      "{\"action\":\"hnsw_vector_cache_prefill\",\"count\":3000,\"index_id\":\"main\",\"level\":\"info\",\"limit\":1000000000000,\"msg\":\"prefilled vector cache\",\"time\":\"2024-02-01T10:18:09+03:00\",\"took\":101871}\n",
      "{\"level\":\"info\",\"msg\":\"Completed loading shard langchain_65be063dba3848e38702e345579822c0_gFAXJdvR3HpP in 165.986048ms\",\"time\":\"2024-02-01T10:18:09+03:00\"}\n",
      "{\"action\":\"hnsw_vector_cache_prefill\",\"count\":3000,\"index_id\":\"main\",\"level\":\"info\",\"limit\":1000000000000,\"msg\":\"prefilled vector cache\",\"time\":\"2024-02-01T10:18:09+03:00\",\"took\":99231}\n",
      "{\"level\":\"info\",\"msg\":\"Completed loading shard langchain_bfaff2a87a6e4702a0d2e8b9266c84cd_4mJJfq4i1k3P in 152.169784ms\",\"time\":\"2024-02-01T10:18:09+03:00\"}\n",
      "{\"action\":\"hnsw_vector_cache_prefill\",\"count\":3000,\"index_id\":\"main\",\"level\":\"info\",\"limit\":1000000000000,\"msg\":\"prefilled vector cache\",\"time\":\"2024-02-01T10:18:09+03:00\",\"took\":1605360}\n",
      "{\"level\":\"info\",\"msg\":\"Completed loading shard langchain_4836fb590cb1419ea6656a040c488d24_gsB3Y5XuzcXk in 171.777121ms\",\"time\":\"2024-02-01T10:18:09+03:00\"}\n",
      "{\"action\":\"hnsw_vector_cache_prefill\",\"count\":3000,\"index_id\":\"main\",\"level\":\"info\",\"limit\":1000000000000,\"msg\":\"prefilled vector cache\",\"time\":\"2024-02-01T10:18:09+03:00\",\"took\":158863}\n",
      "{\"level\":\"info\",\"msg\":\"Completed loading shard langchain_3773278af3bf44c6974be51681bd1435_rGM6mbuHbah4 in 172.112595ms\",\"time\":\"2024-02-01T10:18:09+03:00\"}\n",
      "{\"action\":\"hnsw_vector_cache_prefill\",\"count\":3000,\"index_id\":\"main\",\"level\":\"info\",\"limit\":1000000000000,\"msg\":\"prefilled vector cache\",\"time\":\"2024-02-01T10:18:09+03:00\",\"took\":118760}\n",
      "{\"level\":\"info\",\"msg\":\"Completed loading shard langchain_295312e7406a4ee0b553860a79366b18_jW5tizyQXsZ3 in 172.739031ms\",\"time\":\"2024-02-01T10:18:09+03:00\"}\n",
      "{\"action\":\"hnsw_vector_cache_prefill\",\"count\":3000,\"index_id\":\"main\",\"level\":\"info\",\"limit\":1000000000000,\"msg\":\"prefilled vector cache\",\"time\":\"2024-02-01T10:18:09+03:00\",\"took\":138171}\n",
      "{\"level\":\"info\",\"msg\":\"Completed loading shard langchain_8c1807552a88411294e1c3c894e937c0_s5wCRaUUmhQI in 160.954752ms\",\"time\":\"2024-02-01T10:18:09+03:00\"}\n",
      "{\"level\":\"info\",\"msg\":\"Completed loading shard langchain_b8f5c020dad8424995a257c897db47d6_zob2dDuslGFs in 168.154104ms\",\"time\":\"2024-02-01T10:18:09+03:00\"}\n",
      "{\"level\":\"info\",\"msg\":\"Completed loading shard langchain_8f006eba61624113870add5dc417cf8d_5HsfjSDcNKRJ in 159.149085ms\",\"time\":\"2024-02-01T10:18:09+03:00\"}\n",
      "{\"action\":\"hnsw_vector_cache_prefill\",\"count\":3000,\"index_id\":\"main\",\"level\":\"info\",\"limit\":1000000000000,\"msg\":\"prefilled vector cache\",\"time\":\"2024-02-01T10:18:09+03:00\",\"took\":142598}\n",
      "{\"action\":\"hnsw_vector_cache_prefill\",\"count\":3000,\"index_id\":\"main\",\"level\":\"info\",\"limit\":1000000000000,\"msg\":\"prefilled vector cache\",\"time\":\"2024-02-01T10:18:09+03:00\",\"took\":175234}\n",
      "{\"action\":\"hnsw_vector_cache_prefill\",\"count\":3000,\"index_id\":\"main\",\"level\":\"info\",\"limit\":1000000000000,\"msg\":\"prefilled vector cache\",\"time\":\"2024-02-01T10:18:09+03:00\",\"took\":128941}\n",
      "{\"level\":\"info\",\"msg\":\"Completed loading shard langchain_4b51e0a56e34429294183d836886bbf5_chZtzv3vlG0X in 174.077095ms\",\"time\":\"2024-02-01T10:18:09+03:00\"}\n",
      "{\"action\":\"hnsw_vector_cache_prefill\",\"count\":3000,\"index_id\":\"main\",\"level\":\"info\",\"limit\":1000000000000,\"msg\":\"prefilled vector cache\",\"time\":\"2024-02-01T10:18:09+03:00\",\"took\":139527}\n",
      "{\"level\":\"info\",\"msg\":\"Completed loading shard langchain_7a9eceac92e2481bb0128bb2f88cec14_TSeosXpZyFRe in 162.099598ms\",\"time\":\"2024-02-01T10:18:09+03:00\"}\n",
      "{\"action\":\"hnsw_vector_cache_prefill\",\"count\":3000,\"index_id\":\"main\",\"level\":\"info\",\"limit\":1000000000000,\"msg\":\"prefilled vector cache\",\"time\":\"2024-02-01T10:18:09+03:00\",\"took\":123980}\n",
      "{\"level\":\"info\",\"msg\":\"Completed loading shard langchain_50957979f294425586dea6a1fc969dbd_jjAnWw4sTNE0 in 174.641914ms\",\"time\":\"2024-02-01T10:18:09+03:00\"}\n",
      "{\"level\":\"info\",\"msg\":\"Completed loading shard langchain_6a3dea270c9d4a788ccf2eb5302e611c_prL77N0mdnFc in 174.522935ms\",\"time\":\"2024-02-01T10:18:09+03:00\"}\n",
      "{\"action\":\"hnsw_vector_cache_prefill\",\"count\":3000,\"index_id\":\"main\",\"level\":\"info\",\"limit\":1000000000000,\"msg\":\"prefilled vector cache\",\"time\":\"2024-02-01T10:18:09+03:00\",\"took\":124913}\n",
      "{\"action\":\"hnsw_vector_cache_prefill\",\"count\":3000,\"index_id\":\"main\",\"level\":\"info\",\"limit\":1000000000000,\"msg\":\"prefilled vector cache\",\"time\":\"2024-02-01T10:18:09+03:00\",\"took\":127268}\n",
      "{\"level\":\"info\",\"msg\":\"Completed loading shard langchain_a0795a009713456ca35fb1fb03d0eb02_9pzvFtVa9APs in 161.764684ms\",\"time\":\"2024-02-01T10:18:09+03:00\"}\n",
      "{\"level\":\"info\",\"msg\":\"Completed loading shard langchain_c520d9250a12450ba3b117cd6191ea8c_zOBi0ZYuLhhn in 159.760192ms\",\"time\":\"2024-02-01T10:18:09+03:00\"}\n",
      "{\"action\":\"hnsw_vector_cache_prefill\",\"count\":3000,\"index_id\":\"main\",\"level\":\"info\",\"limit\":1000000000000,\"msg\":\"prefilled vector cache\",\"time\":\"2024-02-01T10:18:09+03:00\",\"took\":125000}\n",
      "{\"action\":\"hnsw_vector_cache_prefill\",\"count\":3000,\"index_id\":\"main\",\"level\":\"info\",\"limit\":1000000000000,\"msg\":\"prefilled vector cache\",\"time\":\"2024-02-01T10:18:09+03:00\",\"took\":298363}\n",
      "{\"level\":\"info\",\"msg\":\"Completed loading shard langchain_48fe5c9b3b704d98a3961dd0c272d6fd_6L1lNAT2RMhH in 175.34553ms\",\"time\":\"2024-02-01T10:18:09+03:00\"}\n",
      "{\"level\":\"info\",\"msg\":\"Completed loading shard langchain_31b3c62caf52436c8ffad34e7acc9432_8ZwSHjkfby5d in 175.570332ms\",\"time\":\"2024-02-01T10:18:09+03:00\"}\n",
      "{\"action\":\"hnsw_vector_cache_prefill\",\"count\":3000,\"index_id\":\"main\",\"level\":\"info\",\"limit\":1000000000000,\"msg\":\"prefilled vector cache\",\"time\":\"2024-02-01T10:18:09+03:00\",\"took\":150610}\n",
      "{\"action\":\"hnsw_vector_cache_prefill\",\"count\":3000,\"index_id\":\"main\",\"level\":\"info\",\"limit\":1000000000000,\"msg\":\"prefilled vector cache\",\"time\":\"2024-02-01T10:18:09+03:00\",\"took\":697350}\n",
      "{\"level\":\"info\",\"msg\":\"Completed loading shard langchain_f6b64408a07142559dbd9fa9d395a5e3_aFu3VtJMTo8F in 160.507588ms\",\"time\":\"2024-02-01T10:18:09+03:00\"}\n",
      "{\"level\":\"info\",\"msg\":\"Completed loading shard langchain_a6bf6203986f41c59b8de6a4e6d6654f_yjZbF2a96q1T in 161.780131ms\",\"time\":\"2024-02-01T10:18:09+03:00\"}\n",
      "{\"level\":\"info\",\"msg\":\"Completed loading shard langchain_65398c7e512343e69318d8a32888d668_NWaXuCxew4i9 in 176.954541ms\",\"time\":\"2024-02-01T10:18:09+03:00\"}\n",
      "{\"action\":\"hnsw_vector_cache_prefill\",\"count\":3000,\"index_id\":\"main\",\"level\":\"info\",\"limit\":1000000000000,\"msg\":\"prefilled vector cache\",\"time\":\"2024-02-01T10:18:09+03:00\",\"took\":170411}\n",
      "{\"action\":\"hnsw_vector_cache_prefill\",\"count\":3000,\"index_id\":\"main\",\"level\":\"info\",\"limit\":1000000000000,\"msg\":\"prefilled vector cache\",\"time\":\"2024-02-01T10:18:09+03:00\",\"took\":534202}\n",
      "{\"action\":\"hnsw_vector_cache_prefill\",\"count\":3000,\"index_id\":\"main\",\"level\":\"info\",\"limit\":1000000000000,\"msg\":\"prefilled vector cache\",\"time\":\"2024-02-01T10:18:09+03:00\",\"took\":192083}\n",
      "{\"level\":\"info\",\"msg\":\"Completed loading shard langchain_7ab4e39a2959450f9d25c4f094c1ed65_RbKsTje6S11Q in 162.205086ms\",\"time\":\"2024-02-01T10:18:09+03:00\"}\n",
      "{\"level\":\"info\",\"msg\":\"Completed loading shard langchain_180a289e3574490dbf5430c128d823ac_c7nS9G1DHDLZ in 177.764083ms\",\"time\":\"2024-02-01T10:18:09+03:00\"}\n",
      "{\"action\":\"hnsw_vector_cache_prefill\",\"count\":3000,\"index_id\":\"main\",\"level\":\"info\",\"limit\":1000000000000,\"msg\":\"prefilled vector cache\",\"time\":\"2024-02-01T10:18:09+03:00\",\"took\":170284}\n",
      "{\"level\":\"info\",\"msg\":\"Completed loading shard langchain_4f54e6dd9a024ca384b0132696f824a0_LTZnrIDTjSlN in 178.196449ms\",\"time\":\"2024-02-01T10:18:09+03:00\"}\n",
      "{\"action\":\"hnsw_vector_cache_prefill\",\"count\":3000,\"index_id\":\"main\",\"level\":\"info\",\"limit\":1000000000000,\"msg\":\"prefilled vector cache\",\"time\":\"2024-02-01T10:18:09+03:00\",\"took\":616717}\n",
      "{\"action\":\"hnsw_vector_cache_prefill\",\"count\":3000,\"index_id\":\"main\",\"level\":\"info\",\"limit\":1000000000000,\"msg\":\"prefilled vector cache\",\"time\":\"2024-02-01T10:18:10+03:00\",\"took\":173950}\n",
      "{\"level\":\"info\",\"msg\":\"Completed loading shard langchain_74180e2845d1477290b3d3c623314944_OuEkjxqNaofI in 178.140427ms\",\"time\":\"2024-02-01T10:18:10+03:00\"}\n",
      "{\"action\":\"hnsw_vector_cache_prefill\",\"count\":3000,\"index_id\":\"main\",\"level\":\"info\",\"limit\":1000000000000,\"msg\":\"prefilled vector cache\",\"time\":\"2024-02-01T10:18:10+03:00\",\"took\":146589}\n",
      "{\"level\":\"info\",\"msg\":\"Completed loading shard langchain_2f129bb8b4d346e49c6a6f615c27b9fc_iq9fUN2vBUo3 in 178.871459ms\",\"time\":\"2024-02-01T10:18:10+03:00\"}\n",
      "{\"action\":\"hnsw_vector_cache_prefill\",\"count\":3000,\"index_id\":\"main\",\"level\":\"info\",\"limit\":1000000000000,\"msg\":\"prefilled vector cache\",\"time\":\"2024-02-01T10:18:10+03:00\",\"took\":132767}\n",
      "{\"level\":\"info\",\"msg\":\"Completed loading shard langchain_3a746cc7ab5c4415b844f69f3d11305f_r2e3GypG1MnT in 179.512734ms\",\"time\":\"2024-02-01T10:18:10+03:00\"}\n",
      "{\"level\":\"info\",\"msg\":\"Completed loading shard langchain_d35e199e254f4befbfe814bf8c81bf00_G54pfNkYlnpf in 166.049173ms\",\"time\":\"2024-02-01T10:18:10+03:00\"}\n",
      "{\"level\":\"info\",\"msg\":\"Completed loading shard langchain_de50f0b9568f467c9384b78673f0683a_68nOA0yzrnRA in 164.841107ms\",\"time\":\"2024-02-01T10:18:10+03:00\"}\n",
      "{\"action\":\"hnsw_vector_cache_prefill\",\"count\":3000,\"index_id\":\"main\",\"level\":\"info\",\"limit\":1000000000000,\"msg\":\"prefilled vector cache\",\"time\":\"2024-02-01T10:18:10+03:00\",\"took\":138262}\n",
      "{\"action\":\"hnsw_vector_cache_prefill\",\"count\":3000,\"index_id\":\"main\",\"level\":\"info\",\"limit\":1000000000000,\"msg\":\"prefilled vector cache\",\"time\":\"2024-02-01T10:18:10+03:00\",\"took\":169011}\n",
      "{\"level\":\"info\",\"msg\":\"Completed loading shard langchain_1f41348bf9cd4390b44def9261cf2bc8_XKxlbIuwtk65 in 179.814958ms\",\"time\":\"2024-02-01T10:18:10+03:00\"}\n",
      "{\"level\":\"info\",\"msg\":\"Completed loading shard langchain_25eba5d882d3483890db2a9db02aeb7d_4mehOMtoZRZL in 179.971508ms\",\"time\":\"2024-02-01T10:18:10+03:00\"}\n",
      "{\"action\":\"hnsw_vector_cache_prefill\",\"count\":3000,\"index_id\":\"main\",\"level\":\"info\",\"limit\":1000000000000,\"msg\":\"prefilled vector cache\",\"time\":\"2024-02-01T10:18:10+03:00\",\"took\":138373}\n",
      "{\"action\":\"hnsw_vector_cache_prefill\",\"count\":3000,\"index_id\":\"main\",\"level\":\"info\",\"limit\":1000000000000,\"msg\":\"prefilled vector cache\",\"time\":\"2024-02-01T10:18:10+03:00\",\"took\":515566}\n",
      "{\"action\":\"hnsw_vector_cache_prefill\",\"count\":3000,\"index_id\":\"main\",\"level\":\"info\",\"limit\":1000000000000,\"msg\":\"prefilled vector cache\",\"time\":\"2024-02-01T10:18:10+03:00\",\"took\":660195}\n",
      "{\"level\":\"info\",\"msg\":\"Completed loading shard langchain_e48c08666514431698494c67ae945bb7_v4N0QpdDRDvN in 166.872846ms\",\"time\":\"2024-02-01T10:18:10+03:00\"}\n",
      "{\"action\":\"hnsw_vector_cache_prefill\",\"count\":3000,\"index_id\":\"main\",\"level\":\"info\",\"limit\":1000000000000,\"msg\":\"prefilled vector cache\",\"time\":\"2024-02-01T10:18:10+03:00\",\"took\":159600}\n",
      "{\"level\":\"info\",\"msg\":\"Completed loading shard langchain_efd4b1af5afa4129a4158d5de2e56ddf_Usx5vQLJoAsW in 170.245795ms\",\"time\":\"2024-02-01T10:18:10+03:00\"}\n",
      "{\"action\":\"hnsw_vector_cache_prefill\",\"count\":3000,\"index_id\":\"main\",\"level\":\"info\",\"limit\":1000000000000,\"msg\":\"prefilled vector cache\",\"time\":\"2024-02-01T10:18:10+03:00\",\"took\":136780}\n",
      "{\"level\":\"info\",\"msg\":\"Completed loading shard langchain_bd28b646c29f4dfaa4406f82e93d590c_bIenm7yfBFIv in 167.224866ms\",\"time\":\"2024-02-01T10:18:10+03:00\"}\n",
      "{\"level\":\"info\",\"msg\":\"Completed loading shard langchain_8d9bdec16c4c4f6ba4e15d9eff33d295_Ogkj7MmeTiXz in 168.650813ms\",\"time\":\"2024-02-01T10:18:10+03:00\"}\n",
      "{\"action\":\"hnsw_vector_cache_prefill\",\"count\":3000,\"index_id\":\"main\",\"level\":\"info\",\"limit\":1000000000000,\"msg\":\"prefilled vector cache\",\"time\":\"2024-02-01T10:18:10+03:00\",\"took\":150297}\n",
      "{\"action\":\"hnsw_vector_cache_prefill\",\"count\":3000,\"index_id\":\"main\",\"level\":\"info\",\"limit\":1000000000000,\"msg\":\"prefilled vector cache\",\"time\":\"2024-02-01T10:18:10+03:00\",\"took\":789320}\n",
      "{\"level\":\"info\",\"msg\":\"Completed loading shard langchain_3d6a800d823a4acdaae781ccbae32c89_Nhocx19uM59C in 183.631231ms\",\"time\":\"2024-02-01T10:18:10+03:00\"}\n",
      "{\"action\":\"hnsw_vector_cache_prefill\",\"count\":3000,\"index_id\":\"main\",\"level\":\"info\",\"limit\":1000000000000,\"msg\":\"prefilled vector cache\",\"time\":\"2024-02-01T10:18:10+03:00\",\"took\":144202}\n",
      "{\"level\":\"info\",\"msg\":\"Completed loading shard langchain_dcd2e23af99f44fbafa8007212a878c5_tbf60MlfmuyP in 169.888272ms\",\"time\":\"2024-02-01T10:18:10+03:00\"}\n",
      "{\"action\":\"hnsw_vector_cache_prefill\",\"count\":3000,\"index_id\":\"main\",\"level\":\"info\",\"limit\":1000000000000,\"msg\":\"prefilled vector cache\",\"time\":\"2024-02-01T10:18:10+03:00\",\"took\":286513}\n",
      "{\"level\":\"info\",\"msg\":\"Completed loading shard langchain_a04ff10c00ed45a1b68617e26958c8fb_EpIpwcDZiTnO in 170.951634ms\",\"time\":\"2024-02-01T10:18:10+03:00\"}\n",
      "{\"action\":\"hnsw_vector_cache_prefill\",\"count\":3000,\"index_id\":\"main\",\"level\":\"info\",\"limit\":1000000000000,\"msg\":\"prefilled vector cache\",\"time\":\"2024-02-01T10:18:10+03:00\",\"took\":221013}\n",
      "{\"level\":\"info\",\"msg\":\"Completed loading shard langchain_6d770baf40a84c93824e03a28cb7f5dc_0xSq7UdVBXTv in 187.815281ms\",\"time\":\"2024-02-01T10:18:10+03:00\"}\n",
      "{\"action\":\"hnsw_vector_cache_prefill\",\"count\":3000,\"index_id\":\"main\",\"level\":\"info\",\"limit\":1000000000000,\"msg\":\"prefilled vector cache\",\"time\":\"2024-02-01T10:18:10+03:00\",\"took\":182962}\n",
      "{\"level\":\"info\",\"msg\":\"Completed loading shard langchain_baa7b447464f4fdbb3aca5187cb22e74_dtviWxFZoxRT in 174.457686ms\",\"time\":\"2024-02-01T10:18:10+03:00\"}\n",
      "{\"level\":\"info\",\"msg\":\"Completed loading shard langchain_5ce0983842194bea9e99d259f65cc4a8_lE0K6y1kCAbu in 188.996553ms\",\"time\":\"2024-02-01T10:18:10+03:00\"}\n",
      "{\"action\":\"hnsw_vector_cache_prefill\",\"count\":3000,\"index_id\":\"main\",\"level\":\"info\",\"limit\":1000000000000,\"msg\":\"prefilled vector cache\",\"time\":\"2024-02-01T10:18:10+03:00\",\"took\":995533}\n",
      "{\"action\":\"hnsw_vector_cache_prefill\",\"count\":3000,\"index_id\":\"main\",\"level\":\"info\",\"limit\":1000000000000,\"msg\":\"prefilled vector cache\",\"time\":\"2024-02-01T10:18:10+03:00\",\"took\":507535}\n",
      "{\"level\":\"info\",\"msg\":\"Completed loading shard langchain_21b6e14060cc4d75a382e81ef06cd4c5_DXduIw4MvqFy in 189.627813ms\",\"time\":\"2024-02-01T10:18:10+03:00\"}\n",
      "{\"action\":\"hnsw_vector_cache_prefill\",\"count\":3000,\"index_id\":\"main\",\"level\":\"info\",\"limit\":1000000000000,\"msg\":\"prefilled vector cache\",\"time\":\"2024-02-01T10:18:10+03:00\",\"took\":1034333}\n",
      "{\"level\":\"info\",\"msg\":\"Completed loading shard langchain_511e4a61e99c42ff8ddbda98ae195428_hMU6FHFI4gwo in 191.044602ms\",\"time\":\"2024-02-01T10:18:10+03:00\"}\n",
      "{\"action\":\"hnsw_vector_cache_prefill\",\"count\":3000,\"index_id\":\"main\",\"level\":\"info\",\"limit\":1000000000000,\"msg\":\"prefilled vector cache\",\"time\":\"2024-02-01T10:18:10+03:00\",\"took\":372194}\n",
      "{\"level\":\"info\",\"msg\":\"Completed loading shard langchain_1ce42fd9e730438cb975281984762d81_wiq6iQ2n0QO1 in 193.173506ms\",\"time\":\"2024-02-01T10:18:10+03:00\"}\n",
      "{\"action\":\"hnsw_vector_cache_prefill\",\"count\":3000,\"index_id\":\"main\",\"level\":\"info\",\"limit\":1000000000000,\"msg\":\"prefilled vector cache\",\"time\":\"2024-02-01T10:18:10+03:00\",\"took\":1099575}\n"
     ]
    },
    {
     "name": "stdout",
     "output_type": "stream",
     "text": [
      "Retriever created successfully.\n"
     ]
    }
   ],
   "source": [
    "retriever = create_retriever(chuncks)"
   ]
  },
  {
   "cell_type": "code",
   "execution_count": 7,
   "metadata": {},
   "outputs": [
    {
     "data": {
      "text/plain": [
       "langchain.vectorstores.base.VectorStoreRetriever"
      ]
     },
     "execution_count": 7,
     "metadata": {},
     "output_type": "execute_result"
    }
   ],
   "source": [
    "type(retriever)"
   ]
  },
  {
   "cell_type": "code",
   "execution_count": 12,
   "metadata": {},
   "outputs": [
    {
     "data": {
      "text/plain": [
       "[Document(page_content='ማሳሰቢያ : ውጤት ማይት የሚቻለው ከቀኑ 8 ሰኣት ጀምሮ ነው። የላካቹ የ ቤተሰቦች እንደየቀደም ተከተላችሁ ውጤቱን\\nከ8 ሰኣት ጀምሮ እንልክላችዋለን። በተቻለን አቅም ኔትዎርክ ባላችሁበት አካባቢ ለሚያስቸግራቹ ውጤታችሁን ለማየትና\\nወደ እናተ ለማድረስ እንሞክራለን።\\nየ12ኛ ክፍል ብሄራዊ ፈተና ውጤት ይፋ ሆነ በድረ ገፅ ለመከታተል ይጠቀሙ። በ መልእክት () ለመከታተል 8181 ላይ\\nበማስቀደም የምዝገባ ቁጥር ( ) በማስገባት ና በመላክ ውጤት ማወቅ ይቻላል። መልካሙ ሁሉ ኢዲገጥማችሁ ይመኛል !\\nብትልኩልን ውጤቱን እንልክላቹዋለን ! በተለይ ኔትዋርክ የሚያስቸግራቹ !\\nውጤት እያደረስኳቹ ነው ግን ብዙ ሰዎችን እያስተናገድኩ ስለሆነ ከላካቹ በሃላ ቢያንስ 3 ደቂቃ ታገሱ ማድረስ ይቻላል !\\nቀጥሉ ያላያቹ ብቻ ! ላኩ በአንድ ጊዜ ከአንድ በላይ እንዳትልኩ !\\nቀጣይ ዙር ! ብቻ ላኩ', metadata={'source': '../prompts/context.txt'}),\n",
       " Document(page_content='ሆኖም የኢትዮጵያ ታሪክ ሊያስተምረን እንደሚችለው ኢትዮጵያዊነት \\nእንደ ላስቲክ ነው። ሲስቡት ይሳባል፣ሲለቁት ይሰበሰባል። ማለት ይሳብና ይሳሳል እንጂ አይበጠስም። ፕሮ መስፍን ወ/ማርያም\\nሰዉ ዉበቱን እንጂ ቁንጅናዉን ሊፈጥር አይችልም:: ተፈጥሮ የሰጠንን አጣጥበን \\nከመዉጣት በዘለለ ቁንጅናን ልንፈጥረዉ አንችልም:: ማቆንጀት የሚገባን ጭንቅላታችንን ነዉ:: ደስ የሚል ቀን ይሁንላችሁ !\\nሀይማኖት የግል ነው ሀገር የጋራ ነው ቁልፉና ማሰሪያው ኢትዮጵያዊነት ነው\\nበ24 ሰኣት ውስጥ 400 ኢትዮጵያዊ አባላትን አግኝተናል እናመሰግናለን !', metadata={'source': '../prompts/context.txt'}),\n",
       " Document(page_content='ኢትዮጵያዊነት ኢትዮጵያዊነት ብዙ የተለያዩ ህብረተሰቦች የተዋህዱበት አካል ክፍል\\nመሆን ነው። ኢትዮጵያዊነት ከጎሰኝኛት በላይና ውጭ የሆነ አጠቃላይ ማንነት ነው።\\nኢትዮጵያዊነት የዚች ውጥንቅጥ መሬት ባለቤትነት ነው፣ ኢትዮጵያዊነት የደጋው\\nብርድና የቆላው ሙቀት የሚገናኙበት፣ የደጋው ዝናብም ከቆላው ወንዝ ጋር\\n\\nየተዛመደበት ሃይል ነው። ኢትዮጵያዊነት ለሙሴ፣ ለክርስቶስና ለመሀመድ የሚጨሰው \\nእጣን በእርገት መጥቶ የሚደባለቅበት እምነት ነው። ኢትዮጵያዊነት በቄጤማ ጉዝጓዝ\\nላይ የሚታየው መተሳሰብና መፈቃቀር ነው። ኢትዮጵያዊነት የአስተዋይነት፣የሚዛናዊነት \\nየጨዋነት ባሕርይ ነው። ኢትዮጵያዊነት ረዢምና ተፅፎ ያላለቀ ታሪክ ነው፤ ብዙ ሰዎችም\\nየተሰዉለት ስሜት ነው።', metadata={'source': '../prompts/context.txt'}),\n",
       " Document(page_content='ዛሬ በሂወት ካላችሁ ነጋችሁን ማስተካከል ትችላላችሁ። በትናንት ውስጥ ስላጣችሁት \\nነገር አታስቡ። ዛሬን ብቻ በሂወት በመኖራችሁ ፈጣሪን አመስግኑ። ዛሬ ውስጥ ጠንካራ \\nከሆናችሁ ነጋችሁ የተዋበ ይሆናል። ነጋችሁ የሚጥም ይሆናል። አሁንም አሁንም አሁንም\\nበሂወት መኖራችሁን ብቻ እያያችሁ አሜን በሉ። ፈጣሪንም አመስግኑ! ከተሰጣችሁ ስጦታዎች\\nሁሉ ህይወታችሁ ይበልጣልና፤በሂወት ካላችሁ ደሞ በነጋችሁ ላይ ለውጥ መፍጠር ትችላላችሁ።', metadata={'source': '../prompts/context.txt'})]"
      ]
     },
     "execution_count": 12,
     "metadata": {},
     "output_type": "execute_result"
    }
   ],
   "source": [
    "retriever.get_relevant_documents(\"ማሳሰቢያ\")"
   ]
  },
  {
   "cell_type": "code",
   "execution_count": 14,
   "metadata": {},
   "outputs": [
    {
     "data": {
      "text/plain": [
       "[Document(page_content='በ5ኛው ዙር ለ 100 ተማሪዎች ውጤታቸውን አይቼ ልካለሁ ብቻ\\nየመጨረሻ 250 ሰው አስተናግዳለሁ : ሀገሪቱ ውስጥ ባለው የኔትወርክ መጨናነቅ ምክንያት ውጤት ማየት ያልቻላችሁ \\nብቻ ወደ ላኩ እስከ ምሽቱ 12:30 ድረስ! አመሰግናለሁ !\\nበቅድሚያ እንኳን ደስ አላችሁ ለማለት እወዳለሁ ውድ የሀገሬ ልጆች ! ወደ እኔ ተልከው ያየዋቸው ውጤቶች ደስ\\nየሚያሰኙ ናቸው ምንም እንኳን ከአምናው ጋር ሲነፃፀር ዝቅተኛ ቢሆንምነገር ግን የመግቢያው ነጥብ ዝቅ የሚል \\nይመስለኛል ምክንያቱ ደግሞ በሀገሪቱ ውስጥ የተከፈቱት 11 አዳዲስ ዩኒቨርሲቲዎች የተማሪዎችን ቅበላ ከፍ ስለሚያደርገው።\\nካየዋቸው በመቶዎች ከሚቆጠሩ ውጤቶች መካከል ከፍተኛው 625 ነው። ይቅርታ ! ተሳስቼ የሌላ ሰው ልኬላችሁ ከሆነ ይቅርታ !\\nበጣም ዘግይቼ ልኬላችሁ ከሆነ ሁላችሁም እንኳን ደስ አላችሁ ! ደስታቹ ደስታችን ነው !', metadata={'source': '../prompts/context.txt'}),\n",
       " Document(page_content='ማሳሰቢያ : ውጤት ማይት የሚቻለው ከቀኑ 8 ሰኣት ጀምሮ ነው። የላካቹ የ ቤተሰቦች እንደየቀደም ተከተላችሁ ውጤቱን\\nከ8 ሰኣት ጀምሮ እንልክላችዋለን። በተቻለን አቅም ኔትዎርክ ባላችሁበት አካባቢ ለሚያስቸግራቹ ውጤታችሁን ለማየትና\\nወደ እናተ ለማድረስ እንሞክራለን።\\nየ12ኛ ክፍል ብሄራዊ ፈተና ውጤት ይፋ ሆነ በድረ ገፅ ለመከታተል ይጠቀሙ። በ መልእክት () ለመከታተል 8181 ላይ\\nበማስቀደም የምዝገባ ቁጥር ( ) በማስገባት ና በመላክ ውጤት ማወቅ ይቻላል። መልካሙ ሁሉ ኢዲገጥማችሁ ይመኛል !\\nብትልኩልን ውጤቱን እንልክላቹዋለን ! በተለይ ኔትዋርክ የሚያስቸግራቹ !\\nውጤት እያደረስኳቹ ነው ግን ብዙ ሰዎችን እያስተናገድኩ ስለሆነ ከላካቹ በሃላ ቢያንስ 3 ደቂቃ ታገሱ ማድረስ ይቻላል !\\nቀጥሉ ያላያቹ ብቻ ! ላኩ በአንድ ጊዜ ከአንድ በላይ እንዳትልኩ !\\nቀጣይ ዙር ! ብቻ ላኩ', metadata={'source': '../prompts/context.txt'}),\n",
       " Document(page_content='ሆኖም የኢትዮጵያ ታሪክ ሊያስተምረን እንደሚችለው ኢትዮጵያዊነት \\nእንደ ላስቲክ ነው። ሲስቡት ይሳባል፣ሲለቁት ይሰበሰባል። ማለት ይሳብና ይሳሳል እንጂ አይበጠስም። ፕሮ መስፍን ወ/ማርያም\\nሰዉ ዉበቱን እንጂ ቁንጅናዉን ሊፈጥር አይችልም:: ተፈጥሮ የሰጠንን አጣጥበን \\nከመዉጣት በዘለለ ቁንጅናን ልንፈጥረዉ አንችልም:: ማቆንጀት የሚገባን ጭንቅላታችንን ነዉ:: ደስ የሚል ቀን ይሁንላችሁ !\\nሀይማኖት የግል ነው ሀገር የጋራ ነው ቁልፉና ማሰሪያው ኢትዮጵያዊነት ነው\\nበ24 ሰኣት ውስጥ 400 ኢትዮጵያዊ አባላትን አግኝተናል እናመሰግናለን !', metadata={'source': '../prompts/context.txt'}),\n",
       " Document(page_content='ታሪክ የሌለው ህዝብ ታሪካዊ ስራ ለመስራት አይጓጓም። ነፃነትም የማያውቅ\\nህዝብ ነፃነቱን ለማግኘት አይደክምም። ኢትዮጵያ የረጅም ዘመን ታሪክ ያላት ነፃ \\nሀገር ስለሆነች ልጆቿ ታሪኳን አውቀው የነፃነቷን ጉልላት ጠብቀው/ ከተፈፀሙ ስህተቶች \\nተምረው እንዲኖሩ ግዴታቸው ነው። አንድ ወጣት የሀገሩን ታሪክ ሳያውቅና ሳያጠናቅቅ\\nየአውሮጳንና የአሜሪካንን ታሪክ ለማሳመር ቢሞክር << በቅሎ አባትህ ማነው? ቢሉት\\n\\nፈረስ አጎቴ ነው>> ይላል እንደሚባለው የሚያሳፍር ይሆናል። በሀገራችን ተስፋ አንቆርጥም!\\nኢትዮጵያ ኣደይ !\\nአደራ ልጄ ገንዘብ ውርሴን አምጪ አትበይኝ አደራ መኪና ቪላ ፎቅ አትበይኝ\\nአደራ ባቡር አውሮፕላን አትበይኝ አደራ እናትሽ ድሀ ነኝ ሀገር ተቀበይኝ ሰንደ\\nቅ እንዳበራ ደስ አሰኝኝ ልጄ እኔም ባንቺ ልኩራ። ገጣሚ : ሰላማዊት አበባየሁ\\nኢትዮጵያ ሀገሬ መመኪያ ነሽ ክብሬ !', metadata={'source': '../prompts/context.txt'})]"
      ]
     },
     "execution_count": 14,
     "metadata": {},
     "output_type": "execute_result"
    }
   ],
   "source": [
    "retriever.get_relevant_documents(\"ተማሪዎች\")"
   ]
  },
  {
   "cell_type": "code",
   "execution_count": 23,
   "metadata": {},
   "outputs": [
    {
     "data": {
      "text/plain": [
       "[Document(page_content='ሆኖም የኢትዮጵያ ታሪክ ሊያስተምረን እንደሚችለው ኢትዮጵያዊነት \\nእንደ ላስቲክ ነው። ሲስቡት ይሳባል፣ሲለቁት ይሰበሰባል። ማለት ይሳብና ይሳሳል እንጂ አይበጠስም። ፕሮ መስፍን ወ/ማርያም\\nሰዉ ዉበቱን እንጂ ቁንጅናዉን ሊፈጥር አይችልም:: ተፈጥሮ የሰጠንን አጣጥበን \\nከመዉጣት በዘለለ ቁንጅናን ልንፈጥረዉ አንችልም:: ማቆንጀት የሚገባን ጭንቅላታችንን ነዉ:: ደስ የሚል ቀን ይሁንላችሁ !\\nሀይማኖት የግል ነው ሀገር የጋራ ነው ቁልፉና ማሰሪያው ኢትዮጵያዊነት ነው\\nበ24 ሰኣት ውስጥ 400 ኢትዮጵያዊ አባላትን አግኝተናል እናመሰግናለን !', metadata={'source': '../prompts/context.txt'}),\n",
       " Document(page_content='ኢትዮጵያዊነት ኢትዮጵያዊነት ብዙ የተለያዩ ህብረተሰቦች የተዋህዱበት አካል ክፍል\\nመሆን ነው። ኢትዮጵያዊነት ከጎሰኝኛት በላይና ውጭ የሆነ አጠቃላይ ማንነት ነው።\\nኢትዮጵያዊነት የዚች ውጥንቅጥ መሬት ባለቤትነት ነው፣ ኢትዮጵያዊነት የደጋው\\nብርድና የቆላው ሙቀት የሚገናኙበት፣ የደጋው ዝናብም ከቆላው ወንዝ ጋር\\n\\nየተዛመደበት ሃይል ነው። ኢትዮጵያዊነት ለሙሴ፣ ለክርስቶስና ለመሀመድ የሚጨሰው \\nእጣን በእርገት መጥቶ የሚደባለቅበት እምነት ነው። ኢትዮጵያዊነት በቄጤማ ጉዝጓዝ\\nላይ የሚታየው መተሳሰብና መፈቃቀር ነው። ኢትዮጵያዊነት የአስተዋይነት፣የሚዛናዊነት \\nየጨዋነት ባሕርይ ነው። ኢትዮጵያዊነት ረዢምና ተፅፎ ያላለቀ ታሪክ ነው፤ ብዙ ሰዎችም\\nየተሰዉለት ስሜት ነው።', metadata={'source': '../prompts/context.txt'}),\n",
       " Document(page_content='ኢትዮጵያዊነት ስቃይና መከራ ነው፤ ኢትዮጵያዊነት ኩራትና\\nክብርም ነው። ኢትዮጵያዊነት ጭቆናና ጥቃት ነው፤ ኢትዮጵያዊነት አሻፈረኝና እምቢ \\nባይነትም ነው። የኢትዮጵያዊነት ኣላማ ያለችውንና የኖረችውን ኢትዮጵያን እንደገና \\nለመፍጠር አይደለም። የኢትዮጵያ ኣላማ ለኢትዮጵያዊያን በሙሉ የሚስማማ እድገታቸውንም\\nየሚያፋጥንና፣ህብረታቸውን የሚያጠነክር ሥርኣትን መፍጠር ነው። የኢትዮጵያዊነት ችግር', metadata={'source': '../prompts/context.txt'}),\n",
       " Document(page_content='ኢትዮጵያ አይደለችም፣ችግሩ የሥርኣት ችግር ነው። የቤቴ መቃጠል ለትኋኑ በጀኝ እንዳለው\\nቂል እንዳንሆን። ኢትዮጵያዊነትን መካድ የራስን ማንነት መካድ ብቻ አይደለም። አባቶችንና\\nእናቶችን፣ቅድም አያቶችን ከነቅርሳቸው መካድ ነው። በእንደዚህ ኣይነቱ ክህደት ላይ የተመሰረተ\\nማንነት የት ይደርሳል?ከበሽታ በቀርስ ትርፉ ምን ይሆናል? ክህደት ራሱን የቻለ በሽታ\\nሲሆን ማስካድ ደግሞ የባሰ ነው። ክዶ ማስካድ ታምሜያለሁኝ፣ ታመሙ እንደማለት\\nነ። አስታማሚ እንኳን እንዳይገኝ የማድረጉ ጥረት የበሽታውን ምለኣትና ፅናት \\nያመለክታል።', metadata={'source': '../prompts/context.txt'})]"
      ]
     },
     "execution_count": 23,
     "metadata": {},
     "output_type": "execute_result"
    }
   ],
   "source": [
    "retriever.get_relevant_documents(\"ኢትዮጵያ\")"
   ]
  }
 ],
 "metadata": {
  "kernelspec": {
   "display_name": "tenx_week7",
   "language": "python",
   "name": "python3"
  },
  "language_info": {
   "codemirror_mode": {
    "name": "ipython",
    "version": 3
   },
   "file_extension": ".py",
   "mimetype": "text/x-python",
   "name": "python",
   "nbconvert_exporter": "python",
   "pygments_lexer": "ipython3",
   "version": "3.11.7"
  }
 },
 "nbformat": 4,
 "nbformat_minor": 2
}
